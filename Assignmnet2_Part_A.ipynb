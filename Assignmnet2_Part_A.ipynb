{
  "nbformat": 4,
  "nbformat_minor": 0,
  "metadata": {
    "colab": {
      "provenance": [],
      "authorship_tag": "ABX9TyNJJ89sPO2Q2HuayFyGwPT+",
      "include_colab_link": true
    },
    "kernelspec": {
      "name": "python3",
      "display_name": "Python 3"
    },
    "language_info": {
      "name": "python"
    }
  },
  "cells": [
    {
      "cell_type": "markdown",
      "metadata": {
        "id": "view-in-github",
        "colab_type": "text"
      },
      "source": [
        "<a href=\"https://colab.research.google.com/github/chandradutta/DL_Assignment_2/blob/main/Assignmnet2_Part_A.ipynb\" target=\"_parent\"><img src=\"https://colab.research.google.com/assets/colab-badge.svg\" alt=\"Open In Colab\"/></a>"
      ]
    },
    {
      "cell_type": "code",
      "execution_count": null,
      "metadata": {
        "id": "3CpTVIZR4VK3"
      },
      "outputs": [],
      "source": [
        "!pip install torch\n",
        "import numpy as np\n",
        "import torch\n",
        "import torch.nn as nn\n",
        "import torch.optim as optim\n",
        "from torch.utils.data import DataLoader, Dataset\n",
        "import torchvision.transforms as transforms\n",
        "import torchvision.datasets as datasets\n",
        "from torchvision.datasets import ImageFolder\n",
        "import torch.nn.functional as func\n",
        "# import wandb\n",
        "from sklearn.model_selection import train_test_split\n",
        "import matplotlib.pyplot as plt\n",
        "from PIL import Image\n",
        "from torch.utils.data import DataLoader"
      ]
    },
    {
      "cell_type": "code",
      "source": [
        "from google.colab import drive\n",
        "drive.mount('/content/drive')"
      ],
      "metadata": {
        "id": "IN1zf7XUFl3W"
      },
      "execution_count": null,
      "outputs": []
    },
    {
      "cell_type": "code",
      "source": [
        "!pip install torchvision\n",
        "import torchvision\n"
      ],
      "metadata": {
        "id": "zr87vRdAFnEI"
      },
      "execution_count": null,
      "outputs": []
    },
    {
      "cell_type": "code",
      "source": [
        "!ls"
      ],
      "metadata": {
        "id": "gn3dZTmX8Bqq"
      },
      "execution_count": null,
      "outputs": []
    },
    {
      "cell_type": "code",
      "source": [
        "dataset = torchvision.datasets.ImageFolder(root='/content/drive/MyDrive/inaturalist_12K', transform=transforms)"
      ],
      "metadata": {
        "id": "X6QT4wVVCALo"
      },
      "execution_count": null,
      "outputs": []
    },
    {
      "cell_type": "code",
      "source": [
        "from torchvision import transforms\n",
        "transform = transforms.Compose([transforms.Resize((200,200)),transforms.ToTensor(),transforms.Normalize(mean=[0.485,0.456,0.406], std=[0.229, 0.224, 0.225])])"
      ],
      "metadata": {
        "id": "d_UKozFtDNNv"
      },
      "execution_count": null,
      "outputs": []
    },
    {
      "cell_type": "code",
      "source": [
        "\n",
        "train_dataset = ImageFolder(root='/content/drive/MyDrive/inaturalist_12K/train', transform=transform)\n",
        "test_dataset = ImageFolder(root='/content/drive/MyDrive/inaturalist_12K/val', transform=transform)\n",
        "\n",
        "\n",
        "# Define the size of the validation set (20%)\n",
        "validation_size = 0.2\n",
        "\n",
        "# Split the dataset into training and validation sets with shuffling\n",
        "train_data, val_data = train_test_split(list(range(len(train_dataset))), test_size=validation_size, shuffle=True, random_state=42)\n",
        "\n",
        "#Data Loader\n",
        "train_loader = DataLoader(dataset=train_dataset, batch_size=32, shuffle=True)\n",
        "val_loader = DataLoader(train_dataset, batch_size=32, shuffle=True)\n",
        "\n",
        "# dataiter = iter(train_loader)\n",
        "# data = next(dataiter)\n",
        "# inputs, targets = data\n",
        "# print(inputs.shape, targets.shape)"
      ],
      "metadata": {
        "id": "QmCQWc1QERXu"
      },
      "execution_count": null,
      "outputs": []
    },
    {
      "cell_type": "code",
      "source": [
        "def imshow(img):\n",
        "    img = img / 2 + 0.5  # unnormalize\n",
        "    npimg = img.numpy()\n",
        "    plt.imshow(np.transpose(npimg, (1, 2, 0)))\n",
        "    plt.show()\n",
        "\n",
        "\n",
        "# get some random training images\n",
        "dataiter = iter(train_loader)\n",
        "images, labels = next(dataiter)\n",
        "\n",
        "# show images\n",
        "imshow(torchvision.utils.make_grid(images))\n"
      ],
      "metadata": {
        "id": "hgwWwDt_QvyD"
      },
      "execution_count": null,
      "outputs": []
    },
    {
      "cell_type": "code",
      "source": [
        "print(images.shape)"
      ],
      "metadata": {
        "id": "ApPUmIEAabgX"
      },
      "execution_count": null,
      "outputs": []
    },
    {
      "cell_type": "code",
      "source": [
        "import math\n",
        "def compute_size(input_size, kernel_size,stride):\n",
        "      padding=0\n",
        "      output_size = math.floor((input_size - kernel_size + 2 * padding) / stride) + 1\n",
        "      return output_size\n",
        "class ConvNetwork(nn.Module):\n",
        "  def __init__(self,n_filters,filter_size,activationFun,denseLay):\n",
        "        super(ConvNetwork, self).__init__()\n",
        "        self.conv1 = nn.Conv2d(3,n_filters,filter_size,stride=1)\n",
        "        self.size_after_conv1 = compute_size(200, filter_size, stride=1)\n",
        "        self.pool1 = nn.MaxPool2d(filter_size,stride=2)\n",
        "        self.size_after_pool1 = compute_size(self.size_after_conv1, filter_size, stride=2)\n",
        "\n",
        "        self.conv2 = nn.Conv2d(n_filters, n_filters*2,filter_size,stride=1)\n",
        "        self.size_after_conv2 = compute_size(self.size_after_pool1, filter_size, stride=1)\n",
        "        self.pool2 = nn.MaxPool2d(filter_size,stride=2)\n",
        "        self.size_after_pool2 = compute_size(self.size_after_conv2, filter_size, stride=2)\n",
        "\n",
        "        self.conv3 = nn.Conv2d(n_filters*2,n_filters*4,filter_size,stride=1)\n",
        "        self.size_after_conv3 = compute_size(self.size_after_pool2, filter_size, stride=1)\n",
        "        self.pool3= nn.MaxPool2d(filter_size,stride=2)\n",
        "        self.size_after_pool3 = compute_size(self.size_after_conv3, filter_size, stride=2)\n",
        "\n",
        "        self.conv4 = nn.Conv2d(n_filters*4,n_filters*8,filter_size,stride=1)\n",
        "        self.size_after_conv4 = compute_size(self.size_after_pool3, filter_size, stride=1)\n",
        "        self.pool4 = nn.MaxPool2d(filter_size,stride=2)\n",
        "        self.size_after_pool4 = compute_size(self.size_after_conv4, filter_size, stride=2)\n",
        "\n",
        "\n",
        "        self.conv5 = nn.Conv2d(n_filters*8,n_filters*16,filter_size,stride=1)\n",
        "        self.size_after_conv5 = compute_size(self.size_after_pool4, filter_size, stride=1)\n",
        "        self.pool5 = nn.MaxPool2d(filter_size,stride=2)\n",
        "        self.size_after_pool5 = compute_size(self.size_after_conv5, filter_size, stride=2)\n",
        "\n",
        "\n",
        "        # Fully connected layers\n",
        "        self.fc1 = nn.Linear(n_filters*16 * (self.size_after_pool5) **2, denseLay)\n",
        "        self.opLay = nn.Linear(denseLay, 10)\n",
        "\n",
        "  # def compute_size(input_size, kernel_size,stride):\n",
        "  #     padding=0\n",
        "  #     output_size = (input_size - kernel_size + 2 * padding) / stride + 1\n",
        "  #     return output_size\n",
        "\n",
        "  def forward(self, x):\n",
        "        x = self.pool1(func.relu(self.conv1(x)))\n",
        "        x = self.pool2(func.relu(self.conv2(x)))\n",
        "        x = self.pool3(func.relu(self.conv3(x)))\n",
        "        x = self.pool4(func.relu(self.conv4(x)))\n",
        "        x = self.pool5(func.relu(self.conv5(x)))\n",
        "        x=x.reshape(x.shape[0],-1)\n",
        "\n",
        "        x = func.relu(self.fc1(x))\n",
        "        x = self.opLay(x)\n",
        "        return x\n",
        "\n",
        "learning_rate=0.001\n",
        "epochs=5\n",
        "n_filters = 32\n",
        "filter_size = 3\n",
        "denseLay = 128\n",
        "activationFun='relu'\n",
        "\n",
        "Network=ConvNetwork(n_filters,filter_size,activationFun,denseLay)\n",
        "\n",
        "LossFun = nn.CrossEntropyLoss()\n",
        "optimizer = torch.optim.SGD(Network.parameters(), lr=learning_rate)\n",
        "\n",
        "length_of_data = len(train_loader)\n",
        "for epoch in range(epochs):\n",
        "    for i, (images, labels) in enumerate(train_loader):\n",
        "\n",
        "        # Forward pass\n",
        "        outputs = Network(images)\n",
        "        loss = LossFun(outputs, labels)\n",
        "\n",
        "        # Backward and optimize\n",
        "        optimizer.zero_grad()\n",
        "        loss.backward()\n",
        "        optimizer.step()\n",
        "\n",
        "        if (i+1) % 2000 == 0:\n",
        "            print (f'Epoch [{epoch+1}/{epochs}], Step [{i+1}/{length_of_data}], Loss: {loss.item():.4f}')"
      ],
      "metadata": {
        "id": "Q34c0ijiW4Mj"
      },
      "execution_count": null,
      "outputs": []
    },
    {
      "cell_type": "code",
      "source": [
        "import torch"
      ],
      "metadata": {
        "id": "YOa7g1ETNaQd"
      },
      "execution_count": null,
      "outputs": []
    }
  ]
}