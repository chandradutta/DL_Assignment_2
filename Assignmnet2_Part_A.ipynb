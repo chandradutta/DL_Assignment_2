{
  "metadata": {
    "kernelspec": {
      "language": "python",
      "display_name": "Python 3",
      "name": "python3"
    },
    "language_info": {
      "name": "python",
      "version": "3.10.13",
      "mimetype": "text/x-python",
      "codemirror_mode": {
        "name": "ipython",
        "version": 3
      },
      "pygments_lexer": "ipython3",
      "nbconvert_exporter": "python",
      "file_extension": ".py"
    },
    "kaggle": {
      "accelerator": "nvidiaTeslaT4",
      "dataSources": [
        {
          "sourceId": 8039995,
          "sourceType": "datasetVersion",
          "datasetId": 4740095
        }
      ],
      "dockerImageVersionId": 30674,
      "isInternetEnabled": true,
      "language": "python",
      "sourceType": "notebook",
      "isGpuEnabled": true
    },
    "colab": {
      "provenance": [],
      "include_colab_link": true
    }
  },
  "nbformat_minor": 0,
  "nbformat": 4,
  "cells": [
    {
      "cell_type": "markdown",
      "metadata": {
        "id": "view-in-github",
        "colab_type": "text"
      },
      "source": [
        "<a href=\"https://colab.research.google.com/github/chandradutta/DL_Assignment_2/blob/main/Assignmnet2_Part_A.ipynb\" target=\"_parent\"><img src=\"https://colab.research.google.com/assets/colab-badge.svg\" alt=\"Open In Colab\"/></a>"
      ]
    },
    {
      "cell_type": "code",
      "source": [
        "#installing wandb\n",
        "!pip install wandb\n",
        "import wandb\n",
        "from wandb.keras import WandbCallback\n",
        "import socket\n",
        "socket.setdefaulttimeout(30)\n",
        "wandb.login()\n",
        "wandb.init(project='DL_Assignment_2')"
      ],
      "metadata": {
        "execution": {
          "iopub.status.busy": "2024-04-10T12:12:48.497456Z",
          "iopub.execute_input": "2024-04-10T12:12:48.497785Z",
          "iopub.status.idle": "2024-04-10T12:14:07.116321Z",
          "shell.execute_reply.started": "2024-04-10T12:12:48.497758Z",
          "shell.execute_reply": "2024-04-10T12:14:07.115603Z"
        },
        "trusted": true,
        "id": "Xr26ori9c5Xg",
        "outputId": "669790e5-6018-45d7-f93d-613334a5f23d"
      },
      "execution_count": null,
      "outputs": [
        {
          "name": "stdout",
          "text": "Requirement already satisfied: wandb in /opt/conda/lib/python3.10/site-packages (0.16.4)\nRequirement already satisfied: Click!=8.0.0,>=7.1 in /opt/conda/lib/python3.10/site-packages (from wandb) (8.1.7)\nRequirement already satisfied: GitPython!=3.1.29,>=1.0.0 in /opt/conda/lib/python3.10/site-packages (from wandb) (3.1.41)\nRequirement already satisfied: requests<3,>=2.0.0 in /opt/conda/lib/python3.10/site-packages (from wandb) (2.31.0)\nRequirement already satisfied: psutil>=5.0.0 in /opt/conda/lib/python3.10/site-packages (from wandb) (5.9.3)\nRequirement already satisfied: sentry-sdk>=1.0.0 in /opt/conda/lib/python3.10/site-packages (from wandb) (1.42.0)\nRequirement already satisfied: docker-pycreds>=0.4.0 in /opt/conda/lib/python3.10/site-packages (from wandb) (0.4.0)\nRequirement already satisfied: PyYAML in /opt/conda/lib/python3.10/site-packages (from wandb) (6.0.1)\nRequirement already satisfied: setproctitle in /opt/conda/lib/python3.10/site-packages (from wandb) (1.3.3)\nRequirement already satisfied: setuptools in /opt/conda/lib/python3.10/site-packages (from wandb) (69.0.3)\nRequirement already satisfied: appdirs>=1.4.3 in /opt/conda/lib/python3.10/site-packages (from wandb) (1.4.4)\nRequirement already satisfied: protobuf!=4.21.0,<5,>=3.19.0 in /opt/conda/lib/python3.10/site-packages (from wandb) (3.20.3)\nRequirement already satisfied: six>=1.4.0 in /opt/conda/lib/python3.10/site-packages (from docker-pycreds>=0.4.0->wandb) (1.16.0)\nRequirement already satisfied: gitdb<5,>=4.0.1 in /opt/conda/lib/python3.10/site-packages (from GitPython!=3.1.29,>=1.0.0->wandb) (4.0.11)\nRequirement already satisfied: charset-normalizer<4,>=2 in /opt/conda/lib/python3.10/site-packages (from requests<3,>=2.0.0->wandb) (3.3.2)\nRequirement already satisfied: idna<4,>=2.5 in /opt/conda/lib/python3.10/site-packages (from requests<3,>=2.0.0->wandb) (3.6)\nRequirement already satisfied: urllib3<3,>=1.21.1 in /opt/conda/lib/python3.10/site-packages (from requests<3,>=2.0.0->wandb) (1.26.18)\nRequirement already satisfied: certifi>=2017.4.17 in /opt/conda/lib/python3.10/site-packages (from requests<3,>=2.0.0->wandb) (2024.2.2)\nRequirement already satisfied: smmap<6,>=3.0.1 in /opt/conda/lib/python3.10/site-packages (from gitdb<5,>=4.0.1->GitPython!=3.1.29,>=1.0.0->wandb) (5.0.1)\n",
          "output_type": "stream"
        },
        {
          "name": "stderr",
          "text": "2024-04-10 12:13:04.578886: E external/local_xla/xla/stream_executor/cuda/cuda_dnn.cc:9261] Unable to register cuDNN factory: Attempting to register factory for plugin cuDNN when one has already been registered\n2024-04-10 12:13:04.579014: E external/local_xla/xla/stream_executor/cuda/cuda_fft.cc:607] Unable to register cuFFT factory: Attempting to register factory for plugin cuFFT when one has already been registered\n2024-04-10 12:13:04.695387: E external/local_xla/xla/stream_executor/cuda/cuda_blas.cc:1515] Unable to register cuBLAS factory: Attempting to register factory for plugin cuBLAS when one has already been registered\n\u001b[34m\u001b[1mwandb\u001b[0m: Logging into wandb.ai. (Learn how to deploy a W&B server locally: https://wandb.me/wandb-server)\n\u001b[34m\u001b[1mwandb\u001b[0m: You can find your API key in your browser here: https://wandb.ai/authorize\n\u001b[34m\u001b[1mwandb\u001b[0m: Paste an API key from your profile and hit enter, or press ctrl+c to quit:",
          "output_type": "stream"
        },
        {
          "output_type": "stream",
          "name": "stdin",
          "text": "  ········································\n"
        },
        {
          "name": "stderr",
          "text": "\u001b[34m\u001b[1mwandb\u001b[0m: Appending key for api.wandb.ai to your netrc file: /root/.netrc\n\u001b[34m\u001b[1mwandb\u001b[0m: Currently logged in as: \u001b[33mchandraduttamamidi\u001b[0m (\u001b[33mcs23m021\u001b[0m). Use \u001b[1m`wandb login --relogin`\u001b[0m to force relogin\n",
          "output_type": "stream"
        },
        {
          "output_type": "display_data",
          "data": {
            "text/plain": "<IPython.core.display.HTML object>",
            "text/html": "wandb version 0.16.6 is available!  To upgrade, please run:\n $ pip install wandb --upgrade"
          },
          "metadata": {}
        },
        {
          "output_type": "display_data",
          "data": {
            "text/plain": "<IPython.core.display.HTML object>",
            "text/html": "Tracking run with wandb version 0.16.4"
          },
          "metadata": {}
        },
        {
          "output_type": "display_data",
          "data": {
            "text/plain": "<IPython.core.display.HTML object>",
            "text/html": "Run data is saved locally in <code>/kaggle/working/wandb/run-20240410_121335-o91lecs2</code>"
          },
          "metadata": {}
        },
        {
          "output_type": "display_data",
          "data": {
            "text/plain": "<IPython.core.display.HTML object>",
            "text/html": "Syncing run <strong><a href='https://wandb.ai/cs23m021/DL_Assignment_2/runs/o91lecs2' target=\"_blank\">fine-shadow-28</a></strong> to <a href='https://wandb.ai/cs23m021/DL_Assignment_2' target=\"_blank\">Weights & Biases</a> (<a href='https://wandb.me/run' target=\"_blank\">docs</a>)<br/>"
          },
          "metadata": {}
        },
        {
          "output_type": "display_data",
          "data": {
            "text/plain": "<IPython.core.display.HTML object>",
            "text/html": " View project at <a href='https://wandb.ai/cs23m021/DL_Assignment_2' target=\"_blank\">https://wandb.ai/cs23m021/DL_Assignment_2</a>"
          },
          "metadata": {}
        },
        {
          "output_type": "display_data",
          "data": {
            "text/plain": "<IPython.core.display.HTML object>",
            "text/html": " View run at <a href='https://wandb.ai/cs23m021/DL_Assignment_2/runs/o91lecs2' target=\"_blank\">https://wandb.ai/cs23m021/DL_Assignment_2/runs/o91lecs2</a>"
          },
          "metadata": {}
        },
        {
          "execution_count": 1,
          "output_type": "execute_result",
          "data": {
            "text/html": "<button onClick=\"this.nextSibling.style.display='block';this.style.display='none';\">Display W&B run</button><iframe src='https://wandb.ai/cs23m021/DL_Assignment_2/runs/o91lecs2?jupyter=true' style='border:none;width:100%;height:420px;display:none;'></iframe>",
            "text/plain": "<wandb.sdk.wandb_run.Run at 0x7cee11f5ba00>"
          },
          "metadata": {}
        }
      ]
    },
    {
      "cell_type": "code",
      "source": [
        "\n",
        "import numpy as np\n",
        "import torch\n",
        "import torch.nn as nn\n",
        "import torch.optim as optim\n",
        "from torch.utils.data import DataLoader, Dataset,Subset\n",
        "import torchvision.transforms as transforms\n",
        "import torchvision.datasets as datasets\n",
        "from torchvision.datasets import ImageFolder\n",
        "import torch.nn.functional as func\n",
        "# import wandb\n",
        "from sklearn.model_selection import train_test_split\n",
        "import matplotlib.pyplot as plt\n",
        "from PIL import Image\n",
        "from torch.utils.data import DataLoader\n",
        "import torchvision\n",
        "\n"
      ],
      "metadata": {
        "_uuid": "8f2839f25d086af736a60e9eeb907d3b93b6e0e5",
        "_cell_guid": "b1076dfc-b9ad-4769-8c92-a6c4dae69d19",
        "execution": {
          "iopub.status.busy": "2024-04-10T12:14:36.151372Z",
          "iopub.execute_input": "2024-04-10T12:14:36.151732Z",
          "iopub.status.idle": "2024-04-10T12:14:36.159996Z",
          "shell.execute_reply.started": "2024-04-10T12:14:36.151706Z",
          "shell.execute_reply": "2024-04-10T12:14:36.158875Z"
        },
        "trusted": true,
        "id": "X5NJfIVVc5Xj"
      },
      "execution_count": null,
      "outputs": []
    },
    {
      "cell_type": "code",
      "source": [
        "from tqdm import tqdm"
      ],
      "metadata": {
        "trusted": true,
        "id": "vZhjxF0Nc5Xk"
      },
      "execution_count": null,
      "outputs": []
    },
    {
      "cell_type": "code",
      "source": [
        "dataset = torchvision.datasets.ImageFolder(root='/kaggle/input/inaturalist-dataset', transform=transforms)\n",
        "from torchvision import transforms\n",
        "\n",
        "transform = transforms.Compose([transforms.Resize((200,200)),transforms.ToTensor(),transforms.Normalize(mean=[0.485,0.456,0.406], std=[0.229, 0.224, 0.225])])\n",
        "\n",
        "train_dataset = ImageFolder(root='/kaggle/input/inaturalist-dataset/inaturalist_12K/train', transform=transform)\n",
        "test_dataset = ImageFolder(root='/kaggle/input/inaturalist-dataset/inaturalist_12K/val', transform=transform)\n",
        "\n",
        "\n",
        "# Define the size of the validation set (20%)\n",
        "validation_size = 0.2\n",
        "\n",
        "# Split the dataset into training and validation sets with shuffling\n",
        "train_data, val_data = train_test_split(list(range(len(train_dataset))), test_size=validation_size, shuffle=True, random_state=42)\n",
        "#Data Loader\n",
        "\n",
        "train_subset = Subset(train_dataset, train_data)\n",
        "val_subset  = Subset(train_dataset, val_data)\n",
        "\n",
        "# train_loader = DataLoader(train_subset, batch_size=32, shuffle=True)\n",
        "# val_loader = DataLoader(val_subset, batch_size=32, shuffle=True)\n",
        "\n",
        "# train_loader = DataLoader(train_data, batch_size=32, shuffle=True)\n",
        "# val_loader = DataLoader(val_data, batch_size=32, shuffle=True)\n",
        "# print(len(train_dataset))\n",
        "# print(len(test_dataset))\n",
        "# print(len(train_data))\n",
        "# print(len(val_data))\n",
        "\n",
        "# dataiter = iter(train_loader)\n",
        "# data = next(dataiter)\n",
        "# inputs, targets = data\n",
        "# print(inputs.shape, targets.shape)"
      ],
      "metadata": {
        "execution": {
          "iopub.status.busy": "2024-04-10T12:14:43.534221Z",
          "iopub.execute_input": "2024-04-10T12:14:43.534884Z",
          "iopub.status.idle": "2024-04-10T12:15:00.929795Z",
          "shell.execute_reply.started": "2024-04-10T12:14:43.534848Z",
          "shell.execute_reply": "2024-04-10T12:15:00.928682Z"
        },
        "trusted": true,
        "id": "Bkb_25kYc5Xk"
      },
      "execution_count": null,
      "outputs": []
    },
    {
      "cell_type": "code",
      "source": [
        "def DataLoaders(aug,batch_size):\n",
        "    train_loader = DataLoader(train_subset, batch_size=batch_size, shuffle=True)\n",
        "    val_loader = DataLoader(val_subset, batch_size=batch_size, shuffle=True)\n",
        "    return train_loader,val_loader"
      ],
      "metadata": {
        "execution": {
          "iopub.status.busy": "2024-04-10T12:15:48.064416Z",
          "iopub.execute_input": "2024-04-10T12:15:48.065169Z",
          "iopub.status.idle": "2024-04-10T12:15:48.071187Z",
          "shell.execute_reply.started": "2024-04-10T12:15:48.065136Z",
          "shell.execute_reply": "2024-04-10T12:15:48.070137Z"
        },
        "trusted": true,
        "id": "UJCpXNQJc5Xl"
      },
      "execution_count": null,
      "outputs": []
    },
    {
      "cell_type": "code",
      "source": [
        "import math\n",
        "# Device configuration\n",
        "device = torch.device('cuda' if torch.cuda.is_available() else 'cpu')\n",
        "\n",
        "def choose_optimizer(algo,epochs,eta,n_filters,filter_size,activationFun,denseLay,aug,batch_size,drop_out,norm):\n",
        "    if algo == 'adam':\n",
        "        Network=ConvNetwork(n_filters,filter_size,activationFun,denseLay,drop_out,norm).to(device)\n",
        "        Algo = torch.optim.Adam(Network.parameters(), lr=eta)\n",
        "        train_model(epochs,Network,Algo,activationFun,aug,batch_size)\n",
        "\n",
        "\n",
        "def compute_size(input_size, kernel_size,stride):\n",
        "    padding=0\n",
        "    output_size = math.floor((input_size - kernel_size + 2 * padding) / stride) + 1\n",
        "#     print(output_size)\n",
        "    return output_size\n",
        "\n",
        "class ConvNetwork(nn.Module):\n",
        "    def __init__(self,n_filters,filter_size,activationFun,denseLay,drop_out,norm):\n",
        "        super(ConvNetwork, self).__init__()\n",
        "        self.drop_out = drop_out\n",
        "        self.norm = norm\n",
        "        self.conv1 = nn.Conv2d(3,n_filters,filter_size,stride=1)\n",
        "        self.norm1 = nn.BatchNorm2d(n_filters)\n",
        "        self.size_after_conv1 = compute_size(200, filter_size, stride=1)\n",
        "        self.pool1 = nn.MaxPool2d(filter_size,stride=2)\n",
        "        self.size_after_pool1 = compute_size(self.size_after_conv1, filter_size, stride=2)\n",
        "\n",
        "        self.conv2 = nn.Conv2d(n_filters, n_filters*2,filter_size,stride=1)\n",
        "        self.norm2 = nn.BatchNorm2d(n_filters*2)\n",
        "        self.size_after_conv2 = compute_size(self.size_after_pool1, filter_size, stride=1)\n",
        "        self.pool2 = nn.MaxPool2d(filter_size,stride=2)\n",
        "        self.size_after_pool2 = compute_size(self.size_after_conv2, filter_size, stride=2)\n",
        "\n",
        "        self.conv3 = nn.Conv2d(n_filters*2,n_filters*4,filter_size,stride=1)\n",
        "        self.norm3 = nn.BatchNorm2d(n_filters*4)\n",
        "        self.size_after_conv3 = compute_size(self.size_after_pool2, filter_size, stride=1)\n",
        "        self.pool3= nn.MaxPool2d(filter_size,stride=2)\n",
        "        self.size_after_pool3 = compute_size(self.size_after_conv3, filter_size, stride=2)\n",
        "\n",
        "        self.conv4 = nn.Conv2d(n_filters*4,n_filters*8,filter_size,stride=1)\n",
        "        self.norm4 = nn.BatchNorm2d(n_filters*8)\n",
        "        self.size_after_conv4 = compute_size(self.size_after_pool3, filter_size, stride=1)\n",
        "        self.pool4 = nn.MaxPool2d(filter_size,stride=2)\n",
        "        self.size_after_pool4 = compute_size(self.size_after_conv4, filter_size, stride=2)\n",
        "\n",
        "\n",
        "        self.conv5 = nn.Conv2d(n_filters*8,n_filters*16,filter_size,stride=1)\n",
        "        self.norm5 = nn.BatchNorm2d(n_filters*16)\n",
        "        self.size_after_conv5 = compute_size(self.size_after_pool4, filter_size, stride=1)\n",
        "        self.pool5 = nn.MaxPool2d(filter_size,stride=2)\n",
        "        self.size_after_pool5 = compute_size(self.size_after_conv5, filter_size, stride=2)\n",
        "\n",
        "        self.drop_out = nn.Dropout(p=drop_out)\n",
        "\n",
        "        # Fully connected layers\n",
        "        self.fc1 = nn.Linear(n_filters*16 * (self.size_after_pool5)*(self.size_after_pool5), denseLay)\n",
        "        self.normFC1 = nn.BatchNorm1d(denseLay)\n",
        "        self.opLay = nn.Linear(denseLay, 10)\n",
        "\n",
        "    def _get_activation_function(self, activation):\n",
        "        # Return the appropriate activation function based on the input argument\n",
        "        if activation == 'relu':\n",
        "            return func.relu\n",
        "        elif activation == 'gelu':\n",
        "            return func.gelu\n",
        "        elif activation == 'silu':\n",
        "            return func.silu\n",
        "        else:\n",
        "            return func.mish\n",
        "\n",
        "\n",
        "    def forward(self, img,activationFun):\n",
        "        # Define activation function based on the input argument\n",
        "        activation_fn = self._get_activation_function(activationFun)\n",
        "\n",
        "        # Apply convolutional layers followed by activation and pooling\n",
        "        if(self.norm == 'true'):\n",
        "            img = self.pool1(activation_fn(self.norm1(self.conv1(img))))\n",
        "        else:\n",
        "            img = self.pool1(activation_fn(self.conv1(img)))\n",
        "        if(self.norm == 'true'):\n",
        "            img = self.pool2(activation_fn(self.norm2(self.conv2(img))))\n",
        "        else:\n",
        "            img = self.pool2(activation_fn(self.conv2(img)))\n",
        "        if(self.norm == 'true'):\n",
        "            img = self.pool3(activation_fn(self.norm3(self.conv3(img))))\n",
        "        else:\n",
        "            img = self.pool3(activation_fn(self.conv3(img)))\n",
        "        if(self.norm=='true'):\n",
        "            img = self.pool4(activation_fn(self.norm4(self.conv4(img))))\n",
        "        else:\n",
        "            img = self.pool4(activation_fn(self.conv4(img)))\n",
        "        if(self.norm == 'true'):\n",
        "            img = self.pool5(activation_fn(self.norm5(self.conv5(img))))\n",
        "        else:\n",
        "            img = self.pool5(activation_fn(self.conv5(img)))\n",
        "\n",
        "        #reshaping\n",
        "        img=img.reshape(img.shape[0],-1)\n",
        "        if(self.norm == 'true'):\n",
        "            img = activation_fn(self.normFC1(self.fc1(img)))\n",
        "        else:\n",
        "            img = activation_fn(self.fc1(img))\n",
        "        img = self.drop_out(img)\n",
        "        img = self.opLay(img)\n",
        "        return img\n",
        "\n",
        "# learning_rate=0.0001\n",
        "# epochs=10\n",
        "# n_filters = 128\n",
        "# filter_size = 3\n",
        "# denseLay = 64\n",
        "# activationFun='relu'\n",
        "\n",
        "\n",
        "\n",
        "LossFun = nn.CrossEntropyLoss()\n",
        "\n",
        "def train_model(epochs,Network,Algo,activationFun,aug,batch_size):\n",
        "    train_loader,val_loader = DataLoaders(aug,batch_size)\n",
        "    for epoch in range(epochs):\n",
        "        for i,(images,labels) in enumerate(tqdm(train_loader)):\n",
        "\n",
        "            images = images.to(device)\n",
        "            labels = labels.to(device)\n",
        "            # Forward pass\n",
        "            outputs = Network(images,activationFun)\n",
        "            loss = LossFun(outputs, labels)\n",
        "\n",
        "            # Backward and optimize\n",
        "            Network.zero_grad()\n",
        "            loss.backward()\n",
        "            Algo.step()\n",
        "        train_acc,train_loss = calculate_accuracy(Network,train_loader,activationFun)\n",
        "        Validation_acc,val_loss=calculate_accuracy(Network, val_loader,activationFun)\n",
        "        wandb.log({\"Validation_acc\" : Validation_acc})\n",
        "        wandb.log({\"val_loss\" : val_loss})\n",
        "        wandb.log({\"train_acc\" : train_acc})\n",
        "        wandb.log({\"train_loss\" : train_loss})\n",
        "        print(train_acc,train_loss)\n",
        "        print(Validation_acc,val_loss)\n",
        "\n",
        "\n",
        "#accuracy\n",
        "def calculate_accuracy(model, data_loader,activationFun):\n",
        "    model.eval()  # Set the model to evaluation mode\n",
        "    correct = 0\n",
        "    total = 0\n",
        "    num_loss=0\n",
        "    total_length = 0\n",
        "    with torch.no_grad():\n",
        "        for images, labels in data_loader:\n",
        "            images=images.to(device=device)\n",
        "            labels=labels.to(device=device)\n",
        "            outputs = model(images,activationFun)\n",
        "            loss=LossFun(outputs,labels)\n",
        "            num_loss+=loss.item()\n",
        "            _, predicted = torch.max(outputs, 1)\n",
        "            total += labels.size(0)\n",
        "            correct += (predicted == labels).sum().item()\n",
        "            total_length += predicted.size(0)\n",
        "    accuracy = correct / total\n",
        "    loss=num_loss/total_length\n",
        "    model.train()\n",
        "    return accuracy,loss\n",
        "\n",
        "\n",
        "# choose_optimizer('adam',10,0.0001,128,3,'relu',64)"
      ],
      "metadata": {
        "execution": {
          "iopub.status.busy": "2024-04-10T12:15:50.681595Z",
          "iopub.execute_input": "2024-04-10T12:15:50.681989Z",
          "iopub.status.idle": "2024-04-10T12:15:50.771519Z",
          "shell.execute_reply.started": "2024-04-10T12:15:50.681961Z",
          "shell.execute_reply": "2024-04-10T12:15:50.770503Z"
        },
        "trusted": true,
        "id": "YivZAN5-c5Xl"
      },
      "execution_count": null,
      "outputs": []
    },
    {
      "cell_type": "code",
      "source": [
        "algo='adam'\n",
        "epochs=5\n",
        "eta=1e-4\n",
        "n_filters=32\n",
        "filter_size=3\n",
        "activationFun='relu'\n",
        "denseLay=256\n",
        "aug='no'\n",
        "batch_size=32\n",
        "drop_out=0.4\n",
        "norm = 'true'\n",
        "choose_optimizer(algo,epochs,eta,n_filters,filter_size,activationFun,denseLay,aug,batch_size,drop_out,norm)"
      ],
      "metadata": {
        "execution": {
          "iopub.status.busy": "2024-04-10T10:53:30.949826Z",
          "iopub.execute_input": "2024-04-10T10:53:30.950644Z",
          "iopub.status.idle": "2024-04-10T11:26:39.457011Z",
          "shell.execute_reply.started": "2024-04-10T10:53:30.950611Z",
          "shell.execute_reply": "2024-04-10T11:26:39.455980Z"
        },
        "trusted": true,
        "id": "Vp0_jEYNc5Xm",
        "outputId": "0d632a59-e62b-4a65-c006-2bb49273afcf"
      },
      "execution_count": null,
      "outputs": [
        {
          "name": "stderr",
          "text": "100%|██████████| 250/250 [01:32<00:00,  2.71it/s]\n",
          "output_type": "stream"
        },
        {
          "name": "stdout",
          "text": "0.36604575571946496\n0.323\n",
          "output_type": "stream"
        },
        {
          "name": "stderr",
          "text": "100%|██████████| 250/250 [01:25<00:00,  2.92it/s]\n",
          "output_type": "stream"
        },
        {
          "name": "stdout",
          "text": "0.4115514439304913\n0.344\n",
          "output_type": "stream"
        },
        {
          "name": "stderr",
          "text": "100%|██████████| 250/250 [01:25<00:00,  2.91it/s]\n",
          "output_type": "stream"
        },
        {
          "name": "stdout",
          "text": "0.47380922615326915\n0.378\n",
          "output_type": "stream"
        },
        {
          "name": "stderr",
          "text": "100%|██████████| 250/250 [01:26<00:00,  2.90it/s]\n",
          "output_type": "stream"
        },
        {
          "name": "stdout",
          "text": "0.5091886485810726\n0.364\n",
          "output_type": "stream"
        },
        {
          "name": "stderr",
          "text": "100%|██████████| 250/250 [01:25<00:00,  2.92it/s]\n",
          "output_type": "stream"
        },
        {
          "name": "stdout",
          "text": "0.5471933991748968\n0.3875\n",
          "output_type": "stream"
        },
        {
          "name": "stderr",
          "text": "100%|██████████| 250/250 [01:25<00:00,  2.91it/s]\n",
          "output_type": "stream"
        },
        {
          "name": "stdout",
          "text": "0.6588323540442556\n0.3805\n",
          "output_type": "stream"
        },
        {
          "name": "stderr",
          "text": "100%|██████████| 250/250 [01:26<00:00,  2.90it/s]\n",
          "output_type": "stream"
        },
        {
          "name": "stdout",
          "text": "0.7294661832729091\n0.399\n",
          "output_type": "stream"
        },
        {
          "name": "stderr",
          "text": "100%|██████████| 250/250 [01:25<00:00,  2.94it/s]\n",
          "output_type": "stream"
        },
        {
          "name": "stdout",
          "text": "0.7260907613451681\n0.325\n",
          "output_type": "stream"
        },
        {
          "name": "stderr",
          "text": "100%|██████████| 250/250 [01:25<00:00,  2.93it/s]\n",
          "output_type": "stream"
        },
        {
          "name": "stdout",
          "text": "0.8902362795349419\n0.348\n",
          "output_type": "stream"
        },
        {
          "name": "stderr",
          "text": "100%|██████████| 250/250 [01:25<00:00,  2.91it/s]\n",
          "output_type": "stream"
        },
        {
          "name": "stdout",
          "text": "0.9403675459432429\n0.3645\n",
          "output_type": "stream"
        }
      ]
    },
    {
      "cell_type": "code",
      "source": [
        "# config = wandb.config\n",
        "#     run_name = f\"{config.optimization_algorithm}_{config.activationfun}_{config.n_filters}_{config.filter_size}_{config.denseLay}\"\n",
        "#     # Set the run name\n",
        "#     wandb.run.name = run_name\n",
        "#     wandb.run.save()\n",
        "\n",
        "\n",
        "\n",
        "def mainfunction(algo,epochs,eta,n_filters,filter_size,activationFun,denseLay,aug,batch_size,drop_out,norm):\n",
        "    if algo == 'adam':\n",
        "        choose_optimizer(algo,epochs,eta,n_filters,filter_size,activationFun,denseLay,aug,batch_size,drop_out,norm)\n",
        "#     else:\n",
        "#         choose_optimizer(algo,epochs,eta,n_filters,filter_size,activationFun,denseLay,aug,batch_size,drop_out,norm)\n",
        "def main():\n",
        "    wandb.init(project=\"DL_Assignment_2\", entity=\"cs23m021\")\n",
        "    config = wandb.config\n",
        "    run_name = f\"{config.optimization_algorithm}_{config.activationfun}_{config.n_filters}_{config.filter_size}_{config.denseLay}\"\n",
        "    # Set the run name\n",
        "    wandb.run.name = run_name\n",
        "    wandb.run.save()\n",
        "\n",
        "    p=wandb.config\n",
        "    with wandb.init(project='DL_Assignment_2') as run:\n",
        "        mainfunction(p.optimization_algorithm,p.max_epochs,p.learning_rate,p.n_filters,p.filter_size,p.activationfun,p.denseLay,p.aug,p.batch_size,p.drop_out,p.norm)\n",
        "\n",
        "parameters_from_sweep = {\n",
        "    'method' : 'bayes',\n",
        "    'name'   : 'Accuracy',\n",
        "    'metric' : {\n",
        "        'goal' : 'maximize',\n",
        "        'name' : 'Validation_acc',\n",
        "    },\n",
        "    'parameters' : {\n",
        "        'n_filters':{'values':[32,64,128]},\n",
        "        'optimization_algorithm':{'values':['adam']},\n",
        "        'max_epochs' : {'values' : [10]},\n",
        "        'filter_size'       : {'values' : [3]},\n",
        "        'learning_rate' : {'values' : [0.001,0.0001]},\n",
        "        'denseLay' : {'values': [64,128,256]},\n",
        "        'activationfun' : {'values' : ['relu']},\n",
        "        'aug': {'values':['yes','no']},\n",
        "        'batch_size':{'values':[16,32]},\n",
        "        'drop_out':{'values':[0,0.2,0.4]},\n",
        "        'norm':{'values':['true','false']}\n",
        "    }\n",
        "}\n",
        "\n",
        "sweepId = wandb.sweep(parameters_from_sweep,project = 'DL_Assignment_2')\n",
        "\n",
        "wandb.agent(sweepId,function=main,count=5)"
      ],
      "metadata": {
        "execution": {
          "iopub.status.busy": "2024-04-10T12:16:02.394565Z",
          "iopub.execute_input": "2024-04-10T12:16:02.395226Z"
        },
        "trusted": true,
        "id": "YUoiZ-iKc5Xm",
        "outputId": "3e87179b-cc6a-46bc-9658-50337be55f92",
        "colab": {
          "referenced_widgets": [
            ""
          ]
        }
      },
      "execution_count": null,
      "outputs": [
        {
          "name": "stderr",
          "text": "\u001b[34m\u001b[1mwandb\u001b[0m: \u001b[33mWARNING\u001b[0m Calling wandb.login() after wandb.init() has no effect.\n",
          "output_type": "stream"
        },
        {
          "name": "stdout",
          "text": "Create sweep with ID: in8lm2x4\nSweep URL: https://wandb.ai/cs23m021/DL_Assignment_2/sweeps/in8lm2x4\n",
          "output_type": "stream"
        },
        {
          "name": "stderr",
          "text": "\u001b[34m\u001b[1mwandb\u001b[0m: Agent Starting Run: epkna6sg with config:\n\u001b[34m\u001b[1mwandb\u001b[0m: \tactivationfun: relu\n\u001b[34m\u001b[1mwandb\u001b[0m: \taug: no\n\u001b[34m\u001b[1mwandb\u001b[0m: \tbatch_size: 32\n\u001b[34m\u001b[1mwandb\u001b[0m: \tdenseLay: 256\n\u001b[34m\u001b[1mwandb\u001b[0m: \tdrop_out: 0.4\n\u001b[34m\u001b[1mwandb\u001b[0m: \tfilter_size: 3\n\u001b[34m\u001b[1mwandb\u001b[0m: \tlearning_rate: 0.0001\n\u001b[34m\u001b[1mwandb\u001b[0m: \tmax_epochs: 10\n\u001b[34m\u001b[1mwandb\u001b[0m: \tn_filters: 128\n\u001b[34m\u001b[1mwandb\u001b[0m: \tnorm: false\n\u001b[34m\u001b[1mwandb\u001b[0m: \toptimization_algorithm: adam\n",
          "output_type": "stream"
        },
        {
          "name": "stdout",
          "text": "VBox(children=(Label(value='0.001 MB of 0.001 MB uploaded\\r'), FloatProgress(value=1.0, max=1.0)))\n<IPython.core.display.HTML object>\n<IPython.core.display.HTML object>\n",
          "output_type": "stream"
        },
        {
          "name": "stderr",
          "text": "\u001b[34m\u001b[1mwandb\u001b[0m: \u001b[33mWARNING\u001b[0m Ignored wandb.init() arg project when running a sweep.\n\u001b[34m\u001b[1mwandb\u001b[0m: \u001b[33mWARNING\u001b[0m Ignored wandb.init() arg entity when running a sweep.\n\u001b[34m\u001b[1mwandb\u001b[0m: \u001b[33mWARNING\u001b[0m Calling wandb.run.save without any arguments is deprecated.Changes to attributes are automatically persisted.\n\u001b[34m\u001b[1mwandb\u001b[0m: \u001b[33mWARNING\u001b[0m Ignored wandb.init() arg project when running a sweep.\n",
          "output_type": "stream"
        },
        {
          "output_type": "display_data",
          "data": {
            "text/plain": "<IPython.core.display.HTML object>",
            "text/html": "Finishing last run (ID:epkna6sg) before initializing another..."
          },
          "metadata": {}
        },
        {
          "output_type": "display_data",
          "data": {
            "text/plain": "VBox(children=(Label(value='0.000 MB of 0.000 MB uploaded\\r'), FloatProgress(value=1.0, max=1.0)))",
            "application/vnd.jupyter.widget-view+json": {
              "version_major": 2,
              "version_minor": 0,
              "model_id": ""
            }
          },
          "metadata": {}
        },
        {
          "output_type": "display_data",
          "data": {
            "text/plain": "<IPython.core.display.HTML object>",
            "text/html": " View run <strong style=\"color:#cdcd00\">visionary-sweep-1</strong> at: <a href='https://wandb.ai/cs23m021/DL_Assignment_2/runs/epkna6sg' target=\"_blank\">https://wandb.ai/cs23m021/DL_Assignment_2/runs/epkna6sg</a><br/>Synced 6 W&B file(s), 0 media file(s), 0 artifact file(s) and 0 other file(s)"
          },
          "metadata": {}
        },
        {
          "output_type": "display_data",
          "data": {
            "text/plain": "<IPython.core.display.HTML object>",
            "text/html": "Find logs at: <code>./wandb/run-20240410_121609-epkna6sg/logs</code>"
          },
          "metadata": {}
        },
        {
          "output_type": "display_data",
          "data": {
            "text/plain": "<IPython.core.display.HTML object>",
            "text/html": "Successfully finished last run (ID:epkna6sg). Initializing new run:<br/>"
          },
          "metadata": {}
        },
        {
          "output_type": "display_data",
          "data": {
            "text/plain": "<IPython.core.display.HTML object>",
            "text/html": "wandb version 0.16.6 is available!  To upgrade, please run:\n $ pip install wandb --upgrade"
          },
          "metadata": {}
        },
        {
          "output_type": "display_data",
          "data": {
            "text/plain": "<IPython.core.display.HTML object>",
            "text/html": "Tracking run with wandb version 0.16.4"
          },
          "metadata": {}
        },
        {
          "output_type": "display_data",
          "data": {
            "text/plain": "<IPython.core.display.HTML object>",
            "text/html": "Run data is saved locally in <code>/kaggle/working/wandb/run-20240410_121641-epkna6sg</code>"
          },
          "metadata": {}
        },
        {
          "output_type": "display_data",
          "data": {
            "text/plain": "<IPython.core.display.HTML object>",
            "text/html": "Syncing run <strong><a href='https://wandb.ai/cs23m021/DL_Assignment_2/runs/epkna6sg' target=\"_blank\">adam_relu_128_3_256</a></strong> to <a href='https://wandb.ai/cs23m021/DL_Assignment_2' target=\"_blank\">Weights & Biases</a> (<a href='https://wandb.me/run' target=\"_blank\">docs</a>)<br/>Sweep page: <a href='https://wandb.ai/cs23m021/DL_Assignment_2/sweeps/in8lm2x4' target=\"_blank\">https://wandb.ai/cs23m021/DL_Assignment_2/sweeps/in8lm2x4</a>"
          },
          "metadata": {}
        },
        {
          "output_type": "display_data",
          "data": {
            "text/plain": "<IPython.core.display.HTML object>",
            "text/html": " View project at <a href='https://wandb.ai/cs23m021/DL_Assignment_2' target=\"_blank\">https://wandb.ai/cs23m021/DL_Assignment_2</a>"
          },
          "metadata": {}
        },
        {
          "output_type": "display_data",
          "data": {
            "text/plain": "<IPython.core.display.HTML object>",
            "text/html": " View sweep at <a href='https://wandb.ai/cs23m021/DL_Assignment_2/sweeps/in8lm2x4' target=\"_blank\">https://wandb.ai/cs23m021/DL_Assignment_2/sweeps/in8lm2x4</a>"
          },
          "metadata": {}
        },
        {
          "output_type": "display_data",
          "data": {
            "text/plain": "<IPython.core.display.HTML object>",
            "text/html": " View run at <a href='https://wandb.ai/cs23m021/DL_Assignment_2/runs/epkna6sg' target=\"_blank\">https://wandb.ai/cs23m021/DL_Assignment_2/runs/epkna6sg</a>"
          },
          "metadata": {}
        },
        {
          "name": "stderr",
          "text": "100%|██████████| 250/250 [03:01<00:00,  1.38it/s]\n",
          "output_type": "stream"
        },
        {
          "name": "stdout",
          "text": "0.18914864358044756 0.06771779073776492\n0.1875 0.06891951668262482\n",
          "output_type": "stream"
        },
        {
          "name": "stderr",
          "text": "100%|██████████| 250/250 [01:31<00:00,  2.73it/s]\n",
          "output_type": "stream"
        },
        {
          "name": "stdout",
          "text": "0.22502812851606452 0.0665628221395955\n0.215 0.06776567155122756\n",
          "output_type": "stream"
        },
        {
          "name": "stderr",
          "text": "100%|██████████| 250/250 [01:32<00:00,  2.69it/s]\n",
          "output_type": "stream"
        },
        {
          "name": "stdout",
          "text": "0.2531566445805726 0.0643711024067494\n0.2425 0.06575680923461914\n",
          "output_type": "stream"
        },
        {
          "name": "stderr",
          "text": "100%|██████████| 250/250 [01:32<00:00,  2.70it/s]\n",
          "output_type": "stream"
        },
        {
          "name": "stdout",
          "text": "0.2951618952369046 0.061663158328283695\n0.2655 0.06393879473209381\n",
          "output_type": "stream"
        },
        {
          "name": "stderr",
          "text": "100%|██████████| 250/250 [01:35<00:00,  2.63it/s]\n",
          "output_type": "stream"
        },
        {
          "name": "stdout",
          "text": "0.32691586448306037 0.05965267009832871\n0.2925 0.06269436794519424\n",
          "output_type": "stream"
        },
        {
          "name": "stderr",
          "text": "100%|██████████| 250/250 [01:31<00:00,  2.73it/s]\n",
          "output_type": "stream"
        },
        {
          "name": "stdout",
          "text": "0.36467058382297785 0.056594009488236084\n0.324 0.05993202310800552\n",
          "output_type": "stream"
        },
        {
          "name": "stderr",
          "text": "100%|██████████| 250/250 [01:33<00:00,  2.67it/s]\n",
          "output_type": "stream"
        },
        {
          "name": "stdout",
          "text": "0.39629953744218027 0.054995973596931744\n0.361 0.05857671082019806\n",
          "output_type": "stream"
        },
        {
          "name": "stderr",
          "text": "100%|██████████| 250/250 [01:32<00:00,  2.72it/s]\n",
          "output_type": "stream"
        },
        {
          "name": "stdout",
          "text": "0.4261782722840355 0.05155060051053535\n0.385 0.056553519666194915\n",
          "output_type": "stream"
        },
        {
          "name": "stderr",
          "text": "100%|██████████| 250/250 [01:31<00:00,  2.72it/s]\n",
          "output_type": "stream"
        },
        {
          "name": "stdout",
          "text": "0.4484310538817352 0.04922101781999846\n0.392 0.055934350371360776\n",
          "output_type": "stream"
        },
        {
          "name": "stderr",
          "text": "100%|██████████| 250/250 [01:32<00:00,  2.72it/s]\n",
          "output_type": "stream"
        },
        {
          "name": "stdout",
          "text": "0.477809726215777 0.04718466469132464\n0.391 0.055915125012397766\n",
          "output_type": "stream"
        },
        {
          "output_type": "display_data",
          "data": {
            "text/plain": "VBox(children=(Label(value='0.001 MB of 0.001 MB uploaded\\r'), FloatProgress(value=1.0, max=1.0)))",
            "application/vnd.jupyter.widget-view+json": {
              "version_major": 2,
              "version_minor": 0,
              "model_id": ""
            }
          },
          "metadata": {}
        },
        {
          "output_type": "display_data",
          "data": {
            "text/plain": "<IPython.core.display.HTML object>",
            "text/html": "<style>\n    table.wandb td:nth-child(1) { padding: 0 10px; text-align: left ; width: auto;} td:nth-child(2) {text-align: left ; width: 100%}\n    .wandb-row { display: flex; flex-direction: row; flex-wrap: wrap; justify-content: flex-start; width: 100% }\n    .wandb-col { display: flex; flex-direction: column; flex-basis: 100%; flex: 1; padding: 10px; }\n    </style>\n<div class=\"wandb-row\"><div class=\"wandb-col\"><h3>Run history:</h3><br/><table class=\"wandb\"><tr><td>Validation_acc</td><td>▁▂▃▄▅▆▇███</td></tr><tr><td>train_acc</td><td>▁▂▃▄▄▅▆▇▇█</td></tr><tr><td>train_loss</td><td>██▇▆▅▄▄▂▂▁</td></tr><tr><td>val_loss</td><td>█▇▆▅▅▃▂▁▁▁</td></tr></table><br/></div><div class=\"wandb-col\"><h3>Run summary:</h3><br/><table class=\"wandb\"><tr><td>Validation_acc</td><td>0.391</td></tr><tr><td>train_acc</td><td>0.47781</td></tr><tr><td>train_loss</td><td>0.04718</td></tr><tr><td>val_loss</td><td>0.05592</td></tr></table><br/></div></div>"
          },
          "metadata": {}
        },
        {
          "output_type": "display_data",
          "data": {
            "text/plain": "<IPython.core.display.HTML object>",
            "text/html": " View run <strong style=\"color:#cdcd00\">adam_relu_128_3_256</strong> at: <a href='https://wandb.ai/cs23m021/DL_Assignment_2/runs/epkna6sg' target=\"_blank\">https://wandb.ai/cs23m021/DL_Assignment_2/runs/epkna6sg</a><br/>Synced 6 W&B file(s), 0 media file(s), 0 artifact file(s) and 0 other file(s)"
          },
          "metadata": {}
        },
        {
          "output_type": "display_data",
          "data": {
            "text/plain": "<IPython.core.display.HTML object>",
            "text/html": "Find logs at: <code>./wandb/run-20240410_121641-epkna6sg/logs</code>"
          },
          "metadata": {}
        },
        {
          "name": "stderr",
          "text": "\u001b[34m\u001b[1mwandb\u001b[0m: Agent Starting Run: h708mevk with config:\n\u001b[34m\u001b[1mwandb\u001b[0m: \tactivationfun: relu\n\u001b[34m\u001b[1mwandb\u001b[0m: \taug: no\n\u001b[34m\u001b[1mwandb\u001b[0m: \tbatch_size: 32\n\u001b[34m\u001b[1mwandb\u001b[0m: \tdenseLay: 128\n\u001b[34m\u001b[1mwandb\u001b[0m: \tdrop_out: 0\n\u001b[34m\u001b[1mwandb\u001b[0m: \tfilter_size: 3\n\u001b[34m\u001b[1mwandb\u001b[0m: \tlearning_rate: 0.001\n\u001b[34m\u001b[1mwandb\u001b[0m: \tmax_epochs: 10\n\u001b[34m\u001b[1mwandb\u001b[0m: \tn_filters: 64\n\u001b[34m\u001b[1mwandb\u001b[0m: \tnorm: false\n\u001b[34m\u001b[1mwandb\u001b[0m: \toptimization_algorithm: adam\n\u001b[34m\u001b[1mwandb\u001b[0m: \u001b[33mWARNING\u001b[0m Ignored wandb.init() arg project when running a sweep.\n\u001b[34m\u001b[1mwandb\u001b[0m: \u001b[33mWARNING\u001b[0m Ignored wandb.init() arg entity when running a sweep.\n",
          "output_type": "stream"
        },
        {
          "output_type": "display_data",
          "data": {
            "text/plain": "<IPython.core.display.HTML object>",
            "text/html": "wandb version 0.16.6 is available!  To upgrade, please run:\n $ pip install wandb --upgrade"
          },
          "metadata": {}
        },
        {
          "output_type": "display_data",
          "data": {
            "text/plain": "<IPython.core.display.HTML object>",
            "text/html": "Tracking run with wandb version 0.16.4"
          },
          "metadata": {}
        },
        {
          "output_type": "display_data",
          "data": {
            "text/plain": "<IPython.core.display.HTML object>",
            "text/html": "Run data is saved locally in <code>/kaggle/working/wandb/run-20240410_125926-h708mevk</code>"
          },
          "metadata": {}
        },
        {
          "output_type": "display_data",
          "data": {
            "text/plain": "<IPython.core.display.HTML object>",
            "text/html": "Syncing run <strong><a href='https://wandb.ai/cs23m021/DL_Assignment_2/runs/h708mevk' target=\"_blank\">honest-sweep-2</a></strong> to <a href='https://wandb.ai/cs23m021/DL_Assignment_2' target=\"_blank\">Weights & Biases</a> (<a href='https://wandb.me/run' target=\"_blank\">docs</a>)<br/>Sweep page: <a href='https://wandb.ai/cs23m021/DL_Assignment_2/sweeps/in8lm2x4' target=\"_blank\">https://wandb.ai/cs23m021/DL_Assignment_2/sweeps/in8lm2x4</a>"
          },
          "metadata": {}
        },
        {
          "output_type": "display_data",
          "data": {
            "text/plain": "<IPython.core.display.HTML object>",
            "text/html": " View project at <a href='https://wandb.ai/cs23m021/DL_Assignment_2' target=\"_blank\">https://wandb.ai/cs23m021/DL_Assignment_2</a>"
          },
          "metadata": {}
        },
        {
          "output_type": "display_data",
          "data": {
            "text/plain": "<IPython.core.display.HTML object>",
            "text/html": " View sweep at <a href='https://wandb.ai/cs23m021/DL_Assignment_2/sweeps/in8lm2x4' target=\"_blank\">https://wandb.ai/cs23m021/DL_Assignment_2/sweeps/in8lm2x4</a>"
          },
          "metadata": {}
        },
        {
          "output_type": "display_data",
          "data": {
            "text/plain": "<IPython.core.display.HTML object>",
            "text/html": " View run at <a href='https://wandb.ai/cs23m021/DL_Assignment_2/runs/h708mevk' target=\"_blank\">https://wandb.ai/cs23m021/DL_Assignment_2/runs/h708mevk</a>"
          },
          "metadata": {}
        },
        {
          "name": "stderr",
          "text": "\u001b[34m\u001b[1mwandb\u001b[0m: \u001b[33mWARNING\u001b[0m Ignored wandb.init() arg project when running a sweep.\n",
          "output_type": "stream"
        },
        {
          "output_type": "display_data",
          "data": {
            "text/plain": "<IPython.core.display.HTML object>",
            "text/html": "Finishing last run (ID:h708mevk) before initializing another..."
          },
          "metadata": {}
        },
        {
          "output_type": "display_data",
          "data": {
            "text/plain": "VBox(children=(Label(value='0.000 MB of 0.000 MB uploaded\\r'), FloatProgress(value=1.0, max=1.0)))",
            "application/vnd.jupyter.widget-view+json": {
              "version_major": 2,
              "version_minor": 0,
              "model_id": ""
            }
          },
          "metadata": {}
        },
        {
          "output_type": "display_data",
          "data": {
            "text/plain": "<IPython.core.display.HTML object>",
            "text/html": " View run <strong style=\"color:#cdcd00\">honest-sweep-2</strong> at: <a href='https://wandb.ai/cs23m021/DL_Assignment_2/runs/h708mevk' target=\"_blank\">https://wandb.ai/cs23m021/DL_Assignment_2/runs/h708mevk</a><br/>Synced 6 W&B file(s), 0 media file(s), 0 artifact file(s) and 0 other file(s)"
          },
          "metadata": {}
        },
        {
          "output_type": "display_data",
          "data": {
            "text/plain": "<IPython.core.display.HTML object>",
            "text/html": "Find logs at: <code>./wandb/run-20240410_125926-h708mevk/logs</code>"
          },
          "metadata": {}
        },
        {
          "output_type": "display_data",
          "data": {
            "text/plain": "<IPython.core.display.HTML object>",
            "text/html": "Successfully finished last run (ID:h708mevk). Initializing new run:<br/>"
          },
          "metadata": {}
        },
        {
          "output_type": "display_data",
          "data": {
            "text/plain": "<IPython.core.display.HTML object>",
            "text/html": "wandb version 0.16.6 is available!  To upgrade, please run:\n $ pip install wandb --upgrade"
          },
          "metadata": {}
        },
        {
          "output_type": "display_data",
          "data": {
            "text/plain": "<IPython.core.display.HTML object>",
            "text/html": "Tracking run with wandb version 0.16.4"
          },
          "metadata": {}
        },
        {
          "output_type": "display_data",
          "data": {
            "text/plain": "<IPython.core.display.HTML object>",
            "text/html": "Run data is saved locally in <code>/kaggle/working/wandb/run-20240410_125958-h708mevk</code>"
          },
          "metadata": {}
        },
        {
          "output_type": "display_data",
          "data": {
            "text/plain": "<IPython.core.display.HTML object>",
            "text/html": "Syncing run <strong><a href='https://wandb.ai/cs23m021/DL_Assignment_2/runs/h708mevk' target=\"_blank\">adam_relu_64_3_128</a></strong> to <a href='https://wandb.ai/cs23m021/DL_Assignment_2' target=\"_blank\">Weights & Biases</a> (<a href='https://wandb.me/run' target=\"_blank\">docs</a>)<br/>Sweep page: <a href='https://wandb.ai/cs23m021/DL_Assignment_2/sweeps/in8lm2x4' target=\"_blank\">https://wandb.ai/cs23m021/DL_Assignment_2/sweeps/in8lm2x4</a>"
          },
          "metadata": {}
        },
        {
          "output_type": "display_data",
          "data": {
            "text/plain": "<IPython.core.display.HTML object>",
            "text/html": " View project at <a href='https://wandb.ai/cs23m021/DL_Assignment_2' target=\"_blank\">https://wandb.ai/cs23m021/DL_Assignment_2</a>"
          },
          "metadata": {}
        },
        {
          "output_type": "display_data",
          "data": {
            "text/plain": "<IPython.core.display.HTML object>",
            "text/html": " View sweep at <a href='https://wandb.ai/cs23m021/DL_Assignment_2/sweeps/in8lm2x4' target=\"_blank\">https://wandb.ai/cs23m021/DL_Assignment_2/sweeps/in8lm2x4</a>"
          },
          "metadata": {}
        },
        {
          "output_type": "display_data",
          "data": {
            "text/plain": "<IPython.core.display.HTML object>",
            "text/html": " View run at <a href='https://wandb.ai/cs23m021/DL_Assignment_2/runs/h708mevk' target=\"_blank\">https://wandb.ai/cs23m021/DL_Assignment_2/runs/h708mevk</a>"
          },
          "metadata": {}
        },
        {
          "name": "stderr",
          "text": "100%|██████████| 250/250 [01:33<00:00,  2.68it/s]\n",
          "output_type": "stream"
        },
        {
          "name": "stdout",
          "text": "0.14589323665458181 0.06922672053905916\n0.1245 0.07022415506839752\n",
          "output_type": "stream"
        },
        {
          "name": "stderr",
          "text": "100%|██████████| 250/250 [01:30<00:00,  2.78it/s]\n",
          "output_type": "stream"
        },
        {
          "name": "stdout",
          "text": "0.19114889361170145 0.06782798179016514\n0.196 0.06868656355142594\n",
          "output_type": "stream"
        },
        {
          "name": "stderr",
          "text": "100%|██████████| 250/250 [01:33<00:00,  2.67it/s]\n",
          "output_type": "stream"
        },
        {
          "name": "stdout",
          "text": "0.2210276284535567 0.06642788504791164\n0.2285 0.0676759979724884\n",
          "output_type": "stream"
        },
        {
          "name": "stderr",
          "text": "100%|██████████| 250/250 [01:36<00:00,  2.60it/s]\n",
          "output_type": "stream"
        },
        {
          "name": "stdout",
          "text": "0.2356544568071009 0.06529879812926617\n0.23 0.0671125295162201\n",
          "output_type": "stream"
        },
        {
          "name": "stderr",
          "text": "100%|██████████| 250/250 [01:29<00:00,  2.78it/s]\n",
          "output_type": "stream"
        },
        {
          "name": "stdout",
          "text": "0.25715714464308037 0.06423248917121473\n0.2525 0.06574302780628204\n",
          "output_type": "stream"
        },
        {
          "name": "stderr",
          "text": "100%|██████████| 250/250 [01:30<00:00,  2.76it/s]\n",
          "output_type": "stream"
        },
        {
          "name": "stdout",
          "text": "0.27765970746343294 0.062297366919972355\n0.2375 0.06573937278985977\n",
          "output_type": "stream"
        },
        {
          "name": "stderr",
          "text": "100%|██████████| 250/250 [01:31<00:00,  2.75it/s]\n",
          "output_type": "stream"
        },
        {
          "name": "stdout",
          "text": "0.29178647330916363 0.061302696724119206\n0.263 0.06448223495483399\n",
          "output_type": "stream"
        },
        {
          "name": "stderr",
          "text": "100%|██████████| 250/250 [01:28<00:00,  2.81it/s]\n",
          "output_type": "stream"
        },
        {
          "name": "stdout",
          "text": "0.3330416302037755 0.05877938291731142\n0.287 0.0646643215417862\n",
          "output_type": "stream"
        },
        {
          "name": "stderr",
          "text": "100%|██████████| 250/250 [01:30<00:00,  2.78it/s]\n",
          "output_type": "stream"
        },
        {
          "name": "stdout",
          "text": "0.3522940367545943 0.05720304778135185\n0.286 0.06316689383983612\n",
          "output_type": "stream"
        },
        {
          "name": "stderr",
          "text": "100%|██████████| 250/250 [01:30<00:00,  2.77it/s]\n",
          "output_type": "stream"
        },
        {
          "name": "stdout",
          "text": "0.39304913114139267 0.053763491389959776\n0.3105 0.0638051877617836\n",
          "output_type": "stream"
        },
        {
          "output_type": "display_data",
          "data": {
            "text/plain": "VBox(children=(Label(value='0.001 MB of 0.001 MB uploaded\\r'), FloatProgress(value=1.0, max=1.0)))",
            "application/vnd.jupyter.widget-view+json": {
              "version_major": 2,
              "version_minor": 0,
              "model_id": ""
            }
          },
          "metadata": {}
        },
        {
          "output_type": "display_data",
          "data": {
            "text/plain": "<IPython.core.display.HTML object>",
            "text/html": "<style>\n    table.wandb td:nth-child(1) { padding: 0 10px; text-align: left ; width: auto;} td:nth-child(2) {text-align: left ; width: 100%}\n    .wandb-row { display: flex; flex-direction: row; flex-wrap: wrap; justify-content: flex-start; width: 100% }\n    .wandb-col { display: flex; flex-direction: column; flex-basis: 100%; flex: 1; padding: 10px; }\n    </style>\n<div class=\"wandb-row\"><div class=\"wandb-col\"><h3>Run history:</h3><br/><table class=\"wandb\"><tr><td>Validation_acc</td><td>▁▄▅▅▆▅▆▇▇█</td></tr><tr><td>train_acc</td><td>▁▂▃▄▄▅▅▆▇█</td></tr><tr><td>train_loss</td><td>█▇▇▆▆▅▄▃▃▁</td></tr><tr><td>val_loss</td><td>█▆▅▅▄▄▂▂▁▂</td></tr></table><br/></div><div class=\"wandb-col\"><h3>Run summary:</h3><br/><table class=\"wandb\"><tr><td>Validation_acc</td><td>0.3105</td></tr><tr><td>train_acc</td><td>0.39305</td></tr><tr><td>train_loss</td><td>0.05376</td></tr><tr><td>val_loss</td><td>0.06381</td></tr></table><br/></div></div>"
          },
          "metadata": {}
        },
        {
          "output_type": "display_data",
          "data": {
            "text/plain": "<IPython.core.display.HTML object>",
            "text/html": " View run <strong style=\"color:#cdcd00\">adam_relu_64_3_128</strong> at: <a href='https://wandb.ai/cs23m021/DL_Assignment_2/runs/h708mevk' target=\"_blank\">https://wandb.ai/cs23m021/DL_Assignment_2/runs/h708mevk</a><br/>Synced 6 W&B file(s), 0 media file(s), 0 artifact file(s) and 0 other file(s)"
          },
          "metadata": {}
        },
        {
          "output_type": "display_data",
          "data": {
            "text/plain": "<IPython.core.display.HTML object>",
            "text/html": "Find logs at: <code>./wandb/run-20240410_125958-h708mevk/logs</code>"
          },
          "metadata": {}
        },
        {
          "name": "stderr",
          "text": "\u001b[34m\u001b[1mwandb\u001b[0m: Agent Starting Run: e42rt6ll with config:\n\u001b[34m\u001b[1mwandb\u001b[0m: \tactivationfun: relu\n\u001b[34m\u001b[1mwandb\u001b[0m: \taug: yes\n\u001b[34m\u001b[1mwandb\u001b[0m: \tbatch_size: 32\n\u001b[34m\u001b[1mwandb\u001b[0m: \tdenseLay: 128\n\u001b[34m\u001b[1mwandb\u001b[0m: \tdrop_out: 0\n\u001b[34m\u001b[1mwandb\u001b[0m: \tfilter_size: 3\n\u001b[34m\u001b[1mwandb\u001b[0m: \tlearning_rate: 0.001\n\u001b[34m\u001b[1mwandb\u001b[0m: \tmax_epochs: 10\n\u001b[34m\u001b[1mwandb\u001b[0m: \tn_filters: 128\n\u001b[34m\u001b[1mwandb\u001b[0m: \tnorm: true\n\u001b[34m\u001b[1mwandb\u001b[0m: \toptimization_algorithm: adam\n\u001b[34m\u001b[1mwandb\u001b[0m: \u001b[33mWARNING\u001b[0m Ignored wandb.init() arg project when running a sweep.\n\u001b[34m\u001b[1mwandb\u001b[0m: \u001b[33mWARNING\u001b[0m Ignored wandb.init() arg entity when running a sweep.\n",
          "output_type": "stream"
        },
        {
          "output_type": "display_data",
          "data": {
            "text/plain": "<IPython.core.display.HTML object>",
            "text/html": "wandb version 0.16.6 is available!  To upgrade, please run:\n $ pip install wandb --upgrade"
          },
          "metadata": {}
        },
        {
          "output_type": "display_data",
          "data": {
            "text/plain": "<IPython.core.display.HTML object>",
            "text/html": "Tracking run with wandb version 0.16.4"
          },
          "metadata": {}
        },
        {
          "output_type": "display_data",
          "data": {
            "text/plain": "<IPython.core.display.HTML object>",
            "text/html": "Run data is saved locally in <code>/kaggle/working/wandb/run-20240410_133717-e42rt6ll</code>"
          },
          "metadata": {}
        },
        {
          "output_type": "display_data",
          "data": {
            "text/plain": "<IPython.core.display.HTML object>",
            "text/html": "Syncing run <strong><a href='https://wandb.ai/cs23m021/DL_Assignment_2/runs/e42rt6ll' target=\"_blank\">amber-sweep-3</a></strong> to <a href='https://wandb.ai/cs23m021/DL_Assignment_2' target=\"_blank\">Weights & Biases</a> (<a href='https://wandb.me/run' target=\"_blank\">docs</a>)<br/>Sweep page: <a href='https://wandb.ai/cs23m021/DL_Assignment_2/sweeps/in8lm2x4' target=\"_blank\">https://wandb.ai/cs23m021/DL_Assignment_2/sweeps/in8lm2x4</a>"
          },
          "metadata": {}
        },
        {
          "output_type": "display_data",
          "data": {
            "text/plain": "<IPython.core.display.HTML object>",
            "text/html": " View project at <a href='https://wandb.ai/cs23m021/DL_Assignment_2' target=\"_blank\">https://wandb.ai/cs23m021/DL_Assignment_2</a>"
          },
          "metadata": {}
        },
        {
          "output_type": "display_data",
          "data": {
            "text/plain": "<IPython.core.display.HTML object>",
            "text/html": " View sweep at <a href='https://wandb.ai/cs23m021/DL_Assignment_2/sweeps/in8lm2x4' target=\"_blank\">https://wandb.ai/cs23m021/DL_Assignment_2/sweeps/in8lm2x4</a>"
          },
          "metadata": {}
        },
        {
          "output_type": "display_data",
          "data": {
            "text/plain": "<IPython.core.display.HTML object>",
            "text/html": " View run at <a href='https://wandb.ai/cs23m021/DL_Assignment_2/runs/e42rt6ll' target=\"_blank\">https://wandb.ai/cs23m021/DL_Assignment_2/runs/e42rt6ll</a>"
          },
          "metadata": {}
        },
        {
          "name": "stderr",
          "text": "\u001b[34m\u001b[1mwandb\u001b[0m: \u001b[33mWARNING\u001b[0m Ignored wandb.init() arg project when running a sweep.\n",
          "output_type": "stream"
        },
        {
          "output_type": "display_data",
          "data": {
            "text/plain": "<IPython.core.display.HTML object>",
            "text/html": "Finishing last run (ID:e42rt6ll) before initializing another..."
          },
          "metadata": {}
        },
        {
          "output_type": "display_data",
          "data": {
            "text/plain": "VBox(children=(Label(value='0.000 MB of 0.000 MB uploaded\\r'), FloatProgress(value=1.0, max=1.0)))",
            "application/vnd.jupyter.widget-view+json": {
              "version_major": 2,
              "version_minor": 0,
              "model_id": ""
            }
          },
          "metadata": {}
        },
        {
          "output_type": "display_data",
          "data": {
            "text/plain": "<IPython.core.display.HTML object>",
            "text/html": " View run <strong style=\"color:#cdcd00\">amber-sweep-3</strong> at: <a href='https://wandb.ai/cs23m021/DL_Assignment_2/runs/e42rt6ll' target=\"_blank\">https://wandb.ai/cs23m021/DL_Assignment_2/runs/e42rt6ll</a><br/>Synced 6 W&B file(s), 0 media file(s), 0 artifact file(s) and 0 other file(s)"
          },
          "metadata": {}
        },
        {
          "output_type": "display_data",
          "data": {
            "text/plain": "<IPython.core.display.HTML object>",
            "text/html": "Find logs at: <code>./wandb/run-20240410_133717-e42rt6ll/logs</code>"
          },
          "metadata": {}
        },
        {
          "output_type": "display_data",
          "data": {
            "text/plain": "<IPython.core.display.HTML object>",
            "text/html": "Successfully finished last run (ID:e42rt6ll). Initializing new run:<br/>"
          },
          "metadata": {}
        },
        {
          "output_type": "display_data",
          "data": {
            "text/plain": "<IPython.core.display.HTML object>",
            "text/html": "wandb version 0.16.6 is available!  To upgrade, please run:\n $ pip install wandb --upgrade"
          },
          "metadata": {}
        },
        {
          "output_type": "display_data",
          "data": {
            "text/plain": "<IPython.core.display.HTML object>",
            "text/html": "Tracking run with wandb version 0.16.4"
          },
          "metadata": {}
        },
        {
          "output_type": "display_data",
          "data": {
            "text/plain": "<IPython.core.display.HTML object>",
            "text/html": "Run data is saved locally in <code>/kaggle/working/wandb/run-20240410_133748-e42rt6ll</code>"
          },
          "metadata": {}
        },
        {
          "output_type": "display_data",
          "data": {
            "text/plain": "<IPython.core.display.HTML object>",
            "text/html": "Syncing run <strong><a href='https://wandb.ai/cs23m021/DL_Assignment_2/runs/e42rt6ll' target=\"_blank\">adam_relu_128_3_128</a></strong> to <a href='https://wandb.ai/cs23m021/DL_Assignment_2' target=\"_blank\">Weights & Biases</a> (<a href='https://wandb.me/run' target=\"_blank\">docs</a>)<br/>Sweep page: <a href='https://wandb.ai/cs23m021/DL_Assignment_2/sweeps/in8lm2x4' target=\"_blank\">https://wandb.ai/cs23m021/DL_Assignment_2/sweeps/in8lm2x4</a>"
          },
          "metadata": {}
        },
        {
          "output_type": "display_data",
          "data": {
            "text/plain": "<IPython.core.display.HTML object>",
            "text/html": " View project at <a href='https://wandb.ai/cs23m021/DL_Assignment_2' target=\"_blank\">https://wandb.ai/cs23m021/DL_Assignment_2</a>"
          },
          "metadata": {}
        },
        {
          "output_type": "display_data",
          "data": {
            "text/plain": "<IPython.core.display.HTML object>",
            "text/html": " View sweep at <a href='https://wandb.ai/cs23m021/DL_Assignment_2/sweeps/in8lm2x4' target=\"_blank\">https://wandb.ai/cs23m021/DL_Assignment_2/sweeps/in8lm2x4</a>"
          },
          "metadata": {}
        },
        {
          "output_type": "display_data",
          "data": {
            "text/plain": "<IPython.core.display.HTML object>",
            "text/html": " View run at <a href='https://wandb.ai/cs23m021/DL_Assignment_2/runs/e42rt6ll' target=\"_blank\">https://wandb.ai/cs23m021/DL_Assignment_2/runs/e42rt6ll</a>"
          },
          "metadata": {}
        },
        {
          "name": "stderr",
          "text": "100%|██████████| 250/250 [01:34<00:00,  2.65it/s]\n",
          "output_type": "stream"
        },
        {
          "name": "stdout",
          "text": "0.31691461432679086 0.05923622284014235\n0.2905 0.0623194830417633\n",
          "output_type": "stream"
        },
        {
          "name": "stderr",
          "text": "100%|██████████| 250/250 [01:38<00:00,  2.53it/s]\n",
          "output_type": "stream"
        },
        {
          "name": "stdout",
          "text": "0.3482935366920865 0.05725652928023893\n0.3255 0.0602042470574379\n",
          "output_type": "stream"
        },
        {
          "name": "stderr",
          "text": "100%|██████████| 250/250 [01:32<00:00,  2.72it/s]\n",
          "output_type": "stream"
        },
        {
          "name": "stdout",
          "text": "0.3629203650456307 0.05650776843008868\n0.341 0.06038476538658142\n",
          "output_type": "stream"
        },
        {
          "name": "stderr",
          "text": "100%|██████████| 250/250 [01:31<00:00,  2.74it/s]\n",
          "output_type": "stream"
        },
        {
          "name": "stdout",
          "text": "0.42730341292661583 0.05084857232482124\n0.3835 0.056154692113399504\n",
          "output_type": "stream"
        },
        {
          "name": "stderr",
          "text": "100%|██████████| 250/250 [01:34<00:00,  2.65it/s]\n",
          "output_type": "stream"
        },
        {
          "name": "stdout",
          "text": "0.4715589448681085 0.047753193524796185\n0.4155 0.054301042914390564\n",
          "output_type": "stream"
        },
        {
          "name": "stderr",
          "text": "100%|██████████| 250/250 [01:32<00:00,  2.70it/s]\n",
          "output_type": "stream"
        },
        {
          "name": "stdout",
          "text": "0.4111763970496312 0.05465675546372141\n0.3385 0.06389697539806366\n",
          "output_type": "stream"
        },
        {
          "name": "stderr",
          "text": "100%|██████████| 250/250 [01:35<00:00,  2.62it/s]\n",
          "output_type": "stream"
        },
        {
          "name": "stdout",
          "text": "0.4944368046005751 0.04496060363023426\n0.3915 0.05652214640378952\n",
          "output_type": "stream"
        },
        {
          "name": "stderr",
          "text": "100%|██████████| 250/250 [01:33<00:00,  2.67it/s]\n",
          "output_type": "stream"
        },
        {
          "name": "stdout",
          "text": "0.4959369921240155 0.04460937721399326\n0.3755 0.05854495966434479\n",
          "output_type": "stream"
        },
        {
          "name": "stderr",
          "text": "100%|██████████| 250/250 [01:35<00:00,  2.63it/s]\n",
          "output_type": "stream"
        },
        {
          "name": "stdout",
          "text": "0.5696962120265033 0.03912076184504896\n0.3915 0.05862931972742081\n",
          "output_type": "stream"
        },
        {
          "name": "stderr",
          "text": "100%|██████████| 250/250 [01:36<00:00,  2.58it/s]\n",
          "output_type": "stream"
        },
        {
          "name": "stdout",
          "text": "0.6192024003000375 0.03431120948175115\n0.4075 0.05759195131063461\n",
          "output_type": "stream"
        },
        {
          "output_type": "display_data",
          "data": {
            "text/plain": "VBox(children=(Label(value='0.001 MB of 0.001 MB uploaded\\r'), FloatProgress(value=1.0, max=1.0)))",
            "application/vnd.jupyter.widget-view+json": {
              "version_major": 2,
              "version_minor": 0,
              "model_id": ""
            }
          },
          "metadata": {}
        },
        {
          "output_type": "display_data",
          "data": {
            "text/plain": "<IPython.core.display.HTML object>",
            "text/html": "<style>\n    table.wandb td:nth-child(1) { padding: 0 10px; text-align: left ; width: auto;} td:nth-child(2) {text-align: left ; width: 100%}\n    .wandb-row { display: flex; flex-direction: row; flex-wrap: wrap; justify-content: flex-start; width: 100% }\n    .wandb-col { display: flex; flex-direction: column; flex-basis: 100%; flex: 1; padding: 10px; }\n    </style>\n<div class=\"wandb-row\"><div class=\"wandb-col\"><h3>Run history:</h3><br/><table class=\"wandb\"><tr><td>Validation_acc</td><td>▁▃▄▆█▄▇▆▇█</td></tr><tr><td>train_acc</td><td>▁▂▂▄▅▃▅▅▇█</td></tr><tr><td>train_loss</td><td>█▇▇▆▅▇▄▄▂▁</td></tr><tr><td>val_loss</td><td>▇▅▅▂▁█▃▄▄▃</td></tr></table><br/></div><div class=\"wandb-col\"><h3>Run summary:</h3><br/><table class=\"wandb\"><tr><td>Validation_acc</td><td>0.4075</td></tr><tr><td>train_acc</td><td>0.6192</td></tr><tr><td>train_loss</td><td>0.03431</td></tr><tr><td>val_loss</td><td>0.05759</td></tr></table><br/></div></div>"
          },
          "metadata": {}
        },
        {
          "output_type": "display_data",
          "data": {
            "text/plain": "<IPython.core.display.HTML object>",
            "text/html": " View run <strong style=\"color:#cdcd00\">adam_relu_128_3_128</strong> at: <a href='https://wandb.ai/cs23m021/DL_Assignment_2/runs/e42rt6ll' target=\"_blank\">https://wandb.ai/cs23m021/DL_Assignment_2/runs/e42rt6ll</a><br/>Synced 6 W&B file(s), 0 media file(s), 0 artifact file(s) and 0 other file(s)"
          },
          "metadata": {}
        },
        {
          "output_type": "display_data",
          "data": {
            "text/plain": "<IPython.core.display.HTML object>",
            "text/html": "Find logs at: <code>./wandb/run-20240410_133748-e42rt6ll/logs</code>"
          },
          "metadata": {}
        },
        {
          "name": "stderr",
          "text": "\u001b[34m\u001b[1mwandb\u001b[0m: Agent Starting Run: 4imygf6c with config:\n\u001b[34m\u001b[1mwandb\u001b[0m: \tactivationfun: relu\n\u001b[34m\u001b[1mwandb\u001b[0m: \taug: no\n\u001b[34m\u001b[1mwandb\u001b[0m: \tbatch_size: 32\n\u001b[34m\u001b[1mwandb\u001b[0m: \tdenseLay: 256\n\u001b[34m\u001b[1mwandb\u001b[0m: \tdrop_out: 0\n\u001b[34m\u001b[1mwandb\u001b[0m: \tfilter_size: 3\n\u001b[34m\u001b[1mwandb\u001b[0m: \tlearning_rate: 0.001\n\u001b[34m\u001b[1mwandb\u001b[0m: \tmax_epochs: 10\n\u001b[34m\u001b[1mwandb\u001b[0m: \tn_filters: 128\n\u001b[34m\u001b[1mwandb\u001b[0m: \tnorm: true\n\u001b[34m\u001b[1mwandb\u001b[0m: \toptimization_algorithm: adam\n\u001b[34m\u001b[1mwandb\u001b[0m: \u001b[33mWARNING\u001b[0m Ignored wandb.init() arg project when running a sweep.\n\u001b[34m\u001b[1mwandb\u001b[0m: \u001b[33mWARNING\u001b[0m Ignored wandb.init() arg entity when running a sweep.\n",
          "output_type": "stream"
        },
        {
          "output_type": "display_data",
          "data": {
            "text/plain": "<IPython.core.display.HTML object>",
            "text/html": "wandb version 0.16.6 is available!  To upgrade, please run:\n $ pip install wandb --upgrade"
          },
          "metadata": {}
        },
        {
          "output_type": "display_data",
          "data": {
            "text/plain": "<IPython.core.display.HTML object>",
            "text/html": "Tracking run with wandb version 0.16.4"
          },
          "metadata": {}
        },
        {
          "output_type": "display_data",
          "data": {
            "text/plain": "<IPython.core.display.HTML object>",
            "text/html": "Run data is saved locally in <code>/kaggle/working/wandb/run-20240410_141928-4imygf6c</code>"
          },
          "metadata": {}
        },
        {
          "output_type": "display_data",
          "data": {
            "text/plain": "<IPython.core.display.HTML object>",
            "text/html": "Syncing run <strong><a href='https://wandb.ai/cs23m021/DL_Assignment_2/runs/4imygf6c' target=\"_blank\">super-sweep-4</a></strong> to <a href='https://wandb.ai/cs23m021/DL_Assignment_2' target=\"_blank\">Weights & Biases</a> (<a href='https://wandb.me/run' target=\"_blank\">docs</a>)<br/>Sweep page: <a href='https://wandb.ai/cs23m021/DL_Assignment_2/sweeps/in8lm2x4' target=\"_blank\">https://wandb.ai/cs23m021/DL_Assignment_2/sweeps/in8lm2x4</a>"
          },
          "metadata": {}
        },
        {
          "output_type": "display_data",
          "data": {
            "text/plain": "<IPython.core.display.HTML object>",
            "text/html": " View project at <a href='https://wandb.ai/cs23m021/DL_Assignment_2' target=\"_blank\">https://wandb.ai/cs23m021/DL_Assignment_2</a>"
          },
          "metadata": {}
        },
        {
          "output_type": "display_data",
          "data": {
            "text/plain": "<IPython.core.display.HTML object>",
            "text/html": " View sweep at <a href='https://wandb.ai/cs23m021/DL_Assignment_2/sweeps/in8lm2x4' target=\"_blank\">https://wandb.ai/cs23m021/DL_Assignment_2/sweeps/in8lm2x4</a>"
          },
          "metadata": {}
        },
        {
          "output_type": "display_data",
          "data": {
            "text/plain": "<IPython.core.display.HTML object>",
            "text/html": " View run at <a href='https://wandb.ai/cs23m021/DL_Assignment_2/runs/4imygf6c' target=\"_blank\">https://wandb.ai/cs23m021/DL_Assignment_2/runs/4imygf6c</a>"
          },
          "metadata": {}
        },
        {
          "name": "stderr",
          "text": "\u001b[34m\u001b[1mwandb\u001b[0m: \u001b[33mWARNING\u001b[0m Ignored wandb.init() arg project when running a sweep.\n",
          "output_type": "stream"
        },
        {
          "output_type": "display_data",
          "data": {
            "text/plain": "<IPython.core.display.HTML object>",
            "text/html": "Finishing last run (ID:4imygf6c) before initializing another..."
          },
          "metadata": {}
        },
        {
          "output_type": "display_data",
          "data": {
            "text/plain": "VBox(children=(Label(value='0.000 MB of 0.000 MB uploaded\\r'), FloatProgress(value=1.0, max=1.0)))",
            "application/vnd.jupyter.widget-view+json": {
              "version_major": 2,
              "version_minor": 0,
              "model_id": ""
            }
          },
          "metadata": {}
        },
        {
          "output_type": "display_data",
          "data": {
            "text/plain": "<IPython.core.display.HTML object>",
            "text/html": " View run <strong style=\"color:#cdcd00\">super-sweep-4</strong> at: <a href='https://wandb.ai/cs23m021/DL_Assignment_2/runs/4imygf6c' target=\"_blank\">https://wandb.ai/cs23m021/DL_Assignment_2/runs/4imygf6c</a><br/>Synced 6 W&B file(s), 0 media file(s), 0 artifact file(s) and 0 other file(s)"
          },
          "metadata": {}
        },
        {
          "output_type": "display_data",
          "data": {
            "text/plain": "<IPython.core.display.HTML object>",
            "text/html": "Find logs at: <code>./wandb/run-20240410_141928-4imygf6c/logs</code>"
          },
          "metadata": {}
        },
        {
          "output_type": "display_data",
          "data": {
            "text/plain": "<IPython.core.display.HTML object>",
            "text/html": "Successfully finished last run (ID:4imygf6c). Initializing new run:<br/>"
          },
          "metadata": {}
        },
        {
          "output_type": "display_data",
          "data": {
            "text/plain": "<IPython.core.display.HTML object>",
            "text/html": "wandb version 0.16.6 is available!  To upgrade, please run:\n $ pip install wandb --upgrade"
          },
          "metadata": {}
        },
        {
          "output_type": "display_data",
          "data": {
            "text/plain": "<IPython.core.display.HTML object>",
            "text/html": "Tracking run with wandb version 0.16.4"
          },
          "metadata": {}
        },
        {
          "output_type": "display_data",
          "data": {
            "text/plain": "<IPython.core.display.HTML object>",
            "text/html": "Run data is saved locally in <code>/kaggle/working/wandb/run-20240410_142000-4imygf6c</code>"
          },
          "metadata": {}
        },
        {
          "output_type": "display_data",
          "data": {
            "text/plain": "<IPython.core.display.HTML object>",
            "text/html": "Syncing run <strong><a href='https://wandb.ai/cs23m021/DL_Assignment_2/runs/4imygf6c' target=\"_blank\">adam_relu_128_3_256</a></strong> to <a href='https://wandb.ai/cs23m021/DL_Assignment_2' target=\"_blank\">Weights & Biases</a> (<a href='https://wandb.me/run' target=\"_blank\">docs</a>)<br/>Sweep page: <a href='https://wandb.ai/cs23m021/DL_Assignment_2/sweeps/in8lm2x4' target=\"_blank\">https://wandb.ai/cs23m021/DL_Assignment_2/sweeps/in8lm2x4</a>"
          },
          "metadata": {}
        },
        {
          "output_type": "display_data",
          "data": {
            "text/plain": "<IPython.core.display.HTML object>",
            "text/html": " View project at <a href='https://wandb.ai/cs23m021/DL_Assignment_2' target=\"_blank\">https://wandb.ai/cs23m021/DL_Assignment_2</a>"
          },
          "metadata": {}
        },
        {
          "output_type": "display_data",
          "data": {
            "text/plain": "<IPython.core.display.HTML object>",
            "text/html": " View sweep at <a href='https://wandb.ai/cs23m021/DL_Assignment_2/sweeps/in8lm2x4' target=\"_blank\">https://wandb.ai/cs23m021/DL_Assignment_2/sweeps/in8lm2x4</a>"
          },
          "metadata": {}
        },
        {
          "output_type": "display_data",
          "data": {
            "text/plain": "<IPython.core.display.HTML object>",
            "text/html": " View run at <a href='https://wandb.ai/cs23m021/DL_Assignment_2/runs/4imygf6c' target=\"_blank\">https://wandb.ai/cs23m021/DL_Assignment_2/runs/4imygf6c</a>"
          },
          "metadata": {}
        },
        {
          "name": "stderr",
          "text": "100%|██████████| 250/250 [01:38<00:00,  2.54it/s]\n",
          "output_type": "stream"
        },
        {
          "name": "stdout",
          "text": "0.2830353794224278 0.06197087181137568\n0.2755 0.06330129045248031\n",
          "output_type": "stream"
        },
        {
          "name": "stderr",
          "text": "100%|██████████| 250/250 [01:31<00:00,  2.74it/s]\n",
          "output_type": "stream"
        },
        {
          "name": "stdout",
          "text": "0.3527940992624078 0.057120015239965946\n0.3305 0.060578839004039764\n",
          "output_type": "stream"
        },
        {
          "name": "stderr",
          "text": "100%|██████████| 250/250 [01:32<00:00,  2.69it/s]\n",
          "output_type": "stream"
        },
        {
          "name": "stdout",
          "text": "0.36379547443430427 0.05806648862378301\n0.347 0.06247907429933548\n",
          "output_type": "stream"
        },
        {
          "name": "stderr",
          "text": "100%|██████████| 250/250 [01:31<00:00,  2.74it/s]\n",
          "output_type": "stream"
        },
        {
          "name": "stdout",
          "text": "0.40692586573321665 0.053525009756163366\n0.372 0.05926603299379349\n",
          "output_type": "stream"
        },
        {
          "name": "stderr",
          "text": "100%|██████████| 250/250 [01:35<00:00,  2.61it/s]\n",
          "output_type": "stream"
        },
        {
          "name": "stdout",
          "text": "0.4746843355419427 0.04651580323039151\n0.391 0.054736667573452\n",
          "output_type": "stream"
        },
        {
          "name": "stderr",
          "text": "100%|██████████| 250/250 [01:32<00:00,  2.70it/s]\n",
          "output_type": "stream"
        },
        {
          "name": "stdout",
          "text": "0.474434304288036 0.04689418105635588\n0.3595 0.05830680924654007\n",
          "output_type": "stream"
        },
        {
          "name": "stderr",
          "text": "100%|██████████| 250/250 [01:38<00:00,  2.54it/s]\n",
          "output_type": "stream"
        },
        {
          "name": "stdout",
          "text": "0.4773096637079635 0.04719945954924778\n0.365 0.0605957790017128\n",
          "output_type": "stream"
        },
        {
          "name": "stderr",
          "text": "100%|██████████| 250/250 [01:32<00:00,  2.71it/s]\n",
          "output_type": "stream"
        },
        {
          "name": "stdout",
          "text": "0.5668208526065758 0.03959113597154528\n0.415 0.05601332944631576\n",
          "output_type": "stream"
        },
        {
          "name": "stderr",
          "text": "100%|██████████| 250/250 [01:31<00:00,  2.73it/s]\n",
          "output_type": "stream"
        },
        {
          "name": "stdout",
          "text": "0.5391923990498813 0.0413670526815811\n0.3585 0.06498560684919358\n",
          "output_type": "stream"
        },
        {
          "name": "stderr",
          "text": "100%|██████████| 250/250 [01:30<00:00,  2.75it/s]\n",
          "output_type": "stream"
        },
        {
          "name": "stdout",
          "text": "0.6782097762220277 0.030326892091477122\n0.402 0.05734221422672272\n",
          "output_type": "stream"
        },
        {
          "output_type": "display_data",
          "data": {
            "text/plain": "VBox(children=(Label(value='0.001 MB of 0.001 MB uploaded\\r'), FloatProgress(value=1.0, max=1.0)))",
            "application/vnd.jupyter.widget-view+json": {
              "version_major": 2,
              "version_minor": 0,
              "model_id": ""
            }
          },
          "metadata": {}
        },
        {
          "output_type": "display_data",
          "data": {
            "text/plain": "<IPython.core.display.HTML object>",
            "text/html": "<style>\n    table.wandb td:nth-child(1) { padding: 0 10px; text-align: left ; width: auto;} td:nth-child(2) {text-align: left ; width: 100%}\n    .wandb-row { display: flex; flex-direction: row; flex-wrap: wrap; justify-content: flex-start; width: 100% }\n    .wandb-col { display: flex; flex-direction: column; flex-basis: 100%; flex: 1; padding: 10px; }\n    </style>\n<div class=\"wandb-row\"><div class=\"wandb-col\"><h3>Run history:</h3><br/><table class=\"wandb\"><tr><td>Validation_acc</td><td>▁▄▅▆▇▅▅█▅▇</td></tr><tr><td>train_acc</td><td>▁▂▂▃▄▄▄▆▆█</td></tr><tr><td>train_loss</td><td>█▇▇▆▅▅▅▃▃▁</td></tr><tr><td>val_loss</td><td>▇▅▆▄▁▃▅▂█▃</td></tr></table><br/></div><div class=\"wandb-col\"><h3>Run summary:</h3><br/><table class=\"wandb\"><tr><td>Validation_acc</td><td>0.402</td></tr><tr><td>train_acc</td><td>0.67821</td></tr><tr><td>train_loss</td><td>0.03033</td></tr><tr><td>val_loss</td><td>0.05734</td></tr></table><br/></div></div>"
          },
          "metadata": {}
        },
        {
          "output_type": "display_data",
          "data": {
            "text/plain": "<IPython.core.display.HTML object>",
            "text/html": " View run <strong style=\"color:#cdcd00\">adam_relu_128_3_256</strong> at: <a href='https://wandb.ai/cs23m021/DL_Assignment_2/runs/4imygf6c' target=\"_blank\">https://wandb.ai/cs23m021/DL_Assignment_2/runs/4imygf6c</a><br/>Synced 6 W&B file(s), 0 media file(s), 0 artifact file(s) and 0 other file(s)"
          },
          "metadata": {}
        },
        {
          "output_type": "display_data",
          "data": {
            "text/plain": "<IPython.core.display.HTML object>",
            "text/html": "Find logs at: <code>./wandb/run-20240410_142000-4imygf6c/logs</code>"
          },
          "metadata": {}
        },
        {
          "name": "stderr",
          "text": "\u001b[34m\u001b[1mwandb\u001b[0m: Sweep Agent: Waiting for job.\n\u001b[34m\u001b[1mwandb\u001b[0m: Job received.\n\u001b[34m\u001b[1mwandb\u001b[0m: Agent Starting Run: 6g3bx5lc with config:\n\u001b[34m\u001b[1mwandb\u001b[0m: \tactivationfun: relu\n\u001b[34m\u001b[1mwandb\u001b[0m: \taug: no\n\u001b[34m\u001b[1mwandb\u001b[0m: \tbatch_size: 32\n\u001b[34m\u001b[1mwandb\u001b[0m: \tdenseLay: 256\n\u001b[34m\u001b[1mwandb\u001b[0m: \tdrop_out: 0.2\n\u001b[34m\u001b[1mwandb\u001b[0m: \tfilter_size: 3\n\u001b[34m\u001b[1mwandb\u001b[0m: \tlearning_rate: 0.001\n\u001b[34m\u001b[1mwandb\u001b[0m: \tmax_epochs: 10\n\u001b[34m\u001b[1mwandb\u001b[0m: \tn_filters: 128\n\u001b[34m\u001b[1mwandb\u001b[0m: \tnorm: true\n\u001b[34m\u001b[1mwandb\u001b[0m: \toptimization_algorithm: adam\n\u001b[34m\u001b[1mwandb\u001b[0m: \u001b[33mWARNING\u001b[0m Ignored wandb.init() arg project when running a sweep.\n\u001b[34m\u001b[1mwandb\u001b[0m: \u001b[33mWARNING\u001b[0m Ignored wandb.init() arg entity when running a sweep.\n",
          "output_type": "stream"
        },
        {
          "output_type": "display_data",
          "data": {
            "text/plain": "<IPython.core.display.HTML object>",
            "text/html": "wandb version 0.16.6 is available!  To upgrade, please run:\n $ pip install wandb --upgrade"
          },
          "metadata": {}
        },
        {
          "output_type": "display_data",
          "data": {
            "text/plain": "<IPython.core.display.HTML object>",
            "text/html": "Tracking run with wandb version 0.16.4"
          },
          "metadata": {}
        },
        {
          "output_type": "display_data",
          "data": {
            "text/plain": "<IPython.core.display.HTML object>",
            "text/html": "Run data is saved locally in <code>/kaggle/working/wandb/run-20240410_150114-6g3bx5lc</code>"
          },
          "metadata": {}
        },
        {
          "output_type": "display_data",
          "data": {
            "text/plain": "<IPython.core.display.HTML object>",
            "text/html": "Syncing run <strong><a href='https://wandb.ai/cs23m021/DL_Assignment_2/runs/6g3bx5lc' target=\"_blank\">toasty-sweep-5</a></strong> to <a href='https://wandb.ai/cs23m021/DL_Assignment_2' target=\"_blank\">Weights & Biases</a> (<a href='https://wandb.me/run' target=\"_blank\">docs</a>)<br/>Sweep page: <a href='https://wandb.ai/cs23m021/DL_Assignment_2/sweeps/in8lm2x4' target=\"_blank\">https://wandb.ai/cs23m021/DL_Assignment_2/sweeps/in8lm2x4</a>"
          },
          "metadata": {}
        },
        {
          "output_type": "display_data",
          "data": {
            "text/plain": "<IPython.core.display.HTML object>",
            "text/html": " View project at <a href='https://wandb.ai/cs23m021/DL_Assignment_2' target=\"_blank\">https://wandb.ai/cs23m021/DL_Assignment_2</a>"
          },
          "metadata": {}
        },
        {
          "output_type": "display_data",
          "data": {
            "text/plain": "<IPython.core.display.HTML object>",
            "text/html": " View sweep at <a href='https://wandb.ai/cs23m021/DL_Assignment_2/sweeps/in8lm2x4' target=\"_blank\">https://wandb.ai/cs23m021/DL_Assignment_2/sweeps/in8lm2x4</a>"
          },
          "metadata": {}
        },
        {
          "output_type": "display_data",
          "data": {
            "text/plain": "<IPython.core.display.HTML object>",
            "text/html": " View run at <a href='https://wandb.ai/cs23m021/DL_Assignment_2/runs/6g3bx5lc' target=\"_blank\">https://wandb.ai/cs23m021/DL_Assignment_2/runs/6g3bx5lc</a>"
          },
          "metadata": {}
        },
        {
          "name": "stderr",
          "text": "\u001b[34m\u001b[1mwandb\u001b[0m: \u001b[33mWARNING\u001b[0m Ignored wandb.init() arg project when running a sweep.\n",
          "output_type": "stream"
        },
        {
          "output_type": "display_data",
          "data": {
            "text/plain": "<IPython.core.display.HTML object>",
            "text/html": "Finishing last run (ID:6g3bx5lc) before initializing another..."
          },
          "metadata": {}
        },
        {
          "output_type": "display_data",
          "data": {
            "text/plain": "VBox(children=(Label(value='0.000 MB of 0.000 MB uploaded\\r'), FloatProgress(value=1.0, max=1.0)))",
            "application/vnd.jupyter.widget-view+json": {
              "version_major": 2,
              "version_minor": 0,
              "model_id": ""
            }
          },
          "metadata": {}
        },
        {
          "output_type": "display_data",
          "data": {
            "text/plain": "<IPython.core.display.HTML object>",
            "text/html": " View run <strong style=\"color:#cdcd00\">toasty-sweep-5</strong> at: <a href='https://wandb.ai/cs23m021/DL_Assignment_2/runs/6g3bx5lc' target=\"_blank\">https://wandb.ai/cs23m021/DL_Assignment_2/runs/6g3bx5lc</a><br/>Synced 6 W&B file(s), 0 media file(s), 0 artifact file(s) and 0 other file(s)"
          },
          "metadata": {}
        },
        {
          "output_type": "display_data",
          "data": {
            "text/plain": "<IPython.core.display.HTML object>",
            "text/html": "Find logs at: <code>./wandb/run-20240410_150114-6g3bx5lc/logs</code>"
          },
          "metadata": {}
        },
        {
          "output_type": "display_data",
          "data": {
            "text/plain": "<IPython.core.display.HTML object>",
            "text/html": "Successfully finished last run (ID:6g3bx5lc). Initializing new run:<br/>"
          },
          "metadata": {}
        },
        {
          "output_type": "display_data",
          "data": {
            "text/plain": "<IPython.core.display.HTML object>",
            "text/html": "wandb version 0.16.6 is available!  To upgrade, please run:\n $ pip install wandb --upgrade"
          },
          "metadata": {}
        },
        {
          "output_type": "display_data",
          "data": {
            "text/plain": "<IPython.core.display.HTML object>",
            "text/html": "Tracking run with wandb version 0.16.4"
          },
          "metadata": {}
        },
        {
          "output_type": "display_data",
          "data": {
            "text/plain": "<IPython.core.display.HTML object>",
            "text/html": "Run data is saved locally in <code>/kaggle/working/wandb/run-20240410_150146-6g3bx5lc</code>"
          },
          "metadata": {}
        },
        {
          "output_type": "display_data",
          "data": {
            "text/plain": "<IPython.core.display.HTML object>",
            "text/html": "Syncing run <strong><a href='https://wandb.ai/cs23m021/DL_Assignment_2/runs/6g3bx5lc' target=\"_blank\">adam_relu_128_3_256</a></strong> to <a href='https://wandb.ai/cs23m021/DL_Assignment_2' target=\"_blank\">Weights & Biases</a> (<a href='https://wandb.me/run' target=\"_blank\">docs</a>)<br/>Sweep page: <a href='https://wandb.ai/cs23m021/DL_Assignment_2/sweeps/in8lm2x4' target=\"_blank\">https://wandb.ai/cs23m021/DL_Assignment_2/sweeps/in8lm2x4</a>"
          },
          "metadata": {}
        },
        {
          "output_type": "display_data",
          "data": {
            "text/plain": "<IPython.core.display.HTML object>",
            "text/html": " View project at <a href='https://wandb.ai/cs23m021/DL_Assignment_2' target=\"_blank\">https://wandb.ai/cs23m021/DL_Assignment_2</a>"
          },
          "metadata": {}
        },
        {
          "output_type": "display_data",
          "data": {
            "text/plain": "<IPython.core.display.HTML object>",
            "text/html": " View sweep at <a href='https://wandb.ai/cs23m021/DL_Assignment_2/sweeps/in8lm2x4' target=\"_blank\">https://wandb.ai/cs23m021/DL_Assignment_2/sweeps/in8lm2x4</a>"
          },
          "metadata": {}
        },
        {
          "output_type": "display_data",
          "data": {
            "text/plain": "<IPython.core.display.HTML object>",
            "text/html": " View run at <a href='https://wandb.ai/cs23m021/DL_Assignment_2/runs/6g3bx5lc' target=\"_blank\">https://wandb.ai/cs23m021/DL_Assignment_2/runs/6g3bx5lc</a>"
          },
          "metadata": {}
        },
        {
          "name": "stderr",
          "text": "100%|██████████| 250/250 [01:34<00:00,  2.65it/s]\n",
          "output_type": "stream"
        },
        {
          "name": "stdout",
          "text": "0.286160770096262 0.06301310697575334\n0.26 0.06552645885944366\n",
          "output_type": "stream"
        },
        {
          "name": "stderr",
          "text": "100%|██████████| 250/250 [01:38<00:00,  2.54it/s]\n",
          "output_type": "stream"
        },
        {
          "name": "stdout",
          "text": "0.3352919114889361 0.05877903014782861\n0.3055 0.062120910346508025\n",
          "output_type": "stream"
        },
        {
          "name": "stderr",
          "text": "100%|██████████| 250/250 [01:45<00:00,  2.37it/s]\n",
          "output_type": "stream"
        },
        {
          "name": "stdout",
          "text": "0.332541567695962 0.058609657025900555\n0.3065 0.06339074486494065\n",
          "output_type": "stream"
        },
        {
          "name": "stderr",
          "text": "100%|██████████| 250/250 [01:48<00:00,  2.31it/s]\n",
          "output_type": "stream"
        },
        {
          "name": "stdout",
          "text": "0.43055381922740343 0.05088383016742488\n0.3995 0.055870664715766905\n",
          "output_type": "stream"
        },
        {
          "name": "stderr",
          "text": "100%|██████████| 250/250 [02:28<00:00,  1.68it/s]\n",
          "output_type": "stream"
        },
        {
          "name": "stdout",
          "text": "0.4386798349793724 0.049830006143274506\n0.385 0.05614702421426773\n",
          "output_type": "stream"
        },
        {
          "name": "stderr",
          "text": "100%|██████████| 250/250 [01:45<00:00,  2.36it/s]\n",
          "output_type": "stream"
        },
        {
          "name": "stdout",
          "text": "0.5169396174521815 0.04363472267365005\n0.409 0.055246646106243136\n",
          "output_type": "stream"
        },
        {
          "name": "stderr",
          "text": "100%|██████████| 250/250 [01:55<00:00,  2.16it/s]\n",
          "output_type": "stream"
        },
        {
          "name": "stdout",
          "text": "0.5544443055381922 0.040744655258075226\n0.4095 0.054233445286750795\n",
          "output_type": "stream"
        },
        {
          "name": "stderr",
          "text": "100%|██████████| 250/250 [01:54<00:00,  2.18it/s]\n",
          "output_type": "stream"
        }
      ]
    }
  ]
}