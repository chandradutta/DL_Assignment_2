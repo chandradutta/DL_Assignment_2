{
  "metadata": {
    "kernelspec": {
      "name": "python3",
      "display_name": "Python 3",
      "language": "python"
    },
    "language_info": {
      "name": "python",
      "version": "3.10.13",
      "mimetype": "text/x-python",
      "codemirror_mode": {
        "name": "ipython",
        "version": 3
      },
      "pygments_lexer": "ipython3",
      "nbconvert_exporter": "python",
      "file_extension": ".py"
    },
    "kaggle": {
      "accelerator": "nvidiaTeslaT4",
      "dataSources": [],
      "dockerImageVersionId": 30683,
      "isInternetEnabled": true,
      "language": "python",
      "sourceType": "notebook",
      "isGpuEnabled": true
    },
    "colab": {
      "provenance": [],
      "include_colab_link": true
    }
  },
  "nbformat_minor": 0,
  "nbformat": 4,
  "cells": [
    {
      "cell_type": "markdown",
      "metadata": {
        "id": "view-in-github",
        "colab_type": "text"
      },
      "source": [
        "<a href=\"https://colab.research.google.com/github/chandradutta/DL_Assignment_2/blob/main/Part_B/DL_Assignment2B.ipynb\" target=\"_parent\"><img src=\"https://colab.research.google.com/assets/colab-badge.svg\" alt=\"Open In Colab\"/></a>"
      ]
    },
    {
      "cell_type": "code",
      "source": [
        "import torchvision.models as models\n",
        "import numpy as np\n",
        "import torch\n",
        "import torch.nn as nn\n",
        "import torch.optim as optim\n",
        "from torch.utils.data import DataLoader, Dataset,Subset\n",
        "import torchvision.transforms as transforms\n",
        "import torchvision.datasets as datasets\n",
        "from torchvision.datasets import ImageFolder\n",
        "import torch.nn.functional as func\n",
        "# import wandb\n",
        "from sklearn.model_selection import train_test_split\n",
        "import matplotlib.pyplot as plt\n",
        "from PIL import Image\n",
        "from torch.utils.data import DataLoader\n",
        "import torchvision"
      ],
      "metadata": {
        "id": "nhWU99-miOWh",
        "execution": {
          "iopub.status.busy": "2024-04-12T18:51:23.984173Z",
          "iopub.execute_input": "2024-04-12T18:51:23.984831Z",
          "iopub.status.idle": "2024-04-12T18:51:37.388348Z",
          "shell.execute_reply.started": "2024-04-12T18:51:23.984794Z",
          "shell.execute_reply": "2024-04-12T18:51:37.387219Z"
        },
        "trusted": true
      },
      "execution_count": null,
      "outputs": []
    },
    {
      "cell_type": "code",
      "source": [
        "!wget https://storage.googleapis.com/wandb_datasets/nature_12K.zip -O nature_12K.zip\n",
        "!unzip -q nature_12K.zip"
      ],
      "metadata": {
        "id": "ghQMVebliOWl",
        "execution": {
          "iopub.status.busy": "2024-04-12T18:51:44.023557Z",
          "iopub.execute_input": "2024-04-12T18:51:44.024114Z",
          "iopub.status.idle": "2024-04-12T18:53:15.725235Z",
          "shell.execute_reply.started": "2024-04-12T18:51:44.024080Z",
          "shell.execute_reply": "2024-04-12T18:53:15.723876Z"
        },
        "trusted": true
      },
      "execution_count": null,
      "outputs": []
    },
    {
      "cell_type": "code",
      "source": [
        "!rm nature_12K.zip"
      ],
      "metadata": {
        "id": "cV3Tfw5viOWm",
        "execution": {
          "iopub.status.busy": "2024-04-12T18:53:58.885553Z",
          "iopub.execute_input": "2024-04-12T18:53:58.886050Z",
          "iopub.status.idle": "2024-04-12T18:54:00.596685Z",
          "shell.execute_reply.started": "2024-04-12T18:53:58.886006Z",
          "shell.execute_reply": "2024-04-12T18:54:00.595331Z"
        },
        "trusted": true
      },
      "execution_count": null,
      "outputs": []
    },
    {
      "cell_type": "code",
      "source": [
        "dataset = torchvision.datasets.ImageFolder(root='inaturalist_12K/train', transform=transforms)\n",
        "from torchvision import transforms\n",
        "\n",
        "transform = transforms.Compose([transforms.Resize((224,224)),transforms.ToTensor(),transforms.Normalize(mean=[0.485,0.456,0.406], std=[0.229, 0.224, 0.225])])\n",
        "\n",
        "train_dataset = ImageFolder(root='inaturalist_12K/train', transform=transform)\n",
        "# test_dataset = ImageFolder(root='/kaggle/input/inaturalist-dataset/inaturalist_12K/val', transform=transform)\n",
        "\n",
        "\n",
        "# Define the size of the validation set (20%)\n",
        "validation_size = 0.2\n",
        "\n",
        "# Split the dataset into training and validation sets with shuffling\n",
        "train_data, val_data = train_test_split(list(range(len(train_dataset))), test_size=validation_size, shuffle=True, random_state=42)\n",
        "#Data Loader\n",
        "\n",
        "train_subset = Subset(train_dataset, train_data)\n",
        "val_subset  = Subset(train_dataset, val_data)\n"
      ],
      "metadata": {
        "id": "sNpkNRwBipK4",
        "execution": {
          "iopub.status.busy": "2024-04-12T18:54:03.816318Z",
          "iopub.execute_input": "2024-04-12T18:54:03.816762Z",
          "iopub.status.idle": "2024-04-12T18:54:03.944169Z",
          "shell.execute_reply.started": "2024-04-12T18:54:03.816721Z",
          "shell.execute_reply": "2024-04-12T18:54:03.943193Z"
        },
        "trusted": true
      },
      "execution_count": null,
      "outputs": []
    },
    {
      "cell_type": "code",
      "source": [
        "from tqdm import tqdm"
      ],
      "metadata": {
        "id": "mRE8DGlBiw3E",
        "execution": {
          "iopub.status.busy": "2024-04-12T18:54:06.950369Z",
          "iopub.execute_input": "2024-04-12T18:54:06.950768Z",
          "iopub.status.idle": "2024-04-12T18:54:06.955910Z",
          "shell.execute_reply.started": "2024-04-12T18:54:06.950738Z",
          "shell.execute_reply": "2024-04-12T18:54:06.954777Z"
        },
        "trusted": true
      },
      "execution_count": null,
      "outputs": []
    },
    {
      "cell_type": "code",
      "source": [
        "def DataLoaders(aug,batch_size):\n",
        "    train_loader = DataLoader(train_subset, batch_size=batch_size, shuffle=True)\n",
        "    val_loader = DataLoader(val_subset, batch_size=batch_size, shuffle=True)\n",
        "    return train_loader,val_loader"
      ],
      "metadata": {
        "id": "zWvjQqw8ireT",
        "execution": {
          "iopub.status.busy": "2024-04-12T18:54:08.593541Z",
          "iopub.execute_input": "2024-04-12T18:54:08.594501Z",
          "iopub.status.idle": "2024-04-12T18:54:08.600677Z",
          "shell.execute_reply.started": "2024-04-12T18:54:08.594466Z",
          "shell.execute_reply": "2024-04-12T18:54:08.599317Z"
        },
        "trusted": true
      },
      "execution_count": null,
      "outputs": []
    },
    {
      "cell_type": "code",
      "source": [
        "def RESNET50(k,NUM_OF_CLASSES): #this function returns the model by freezing first k layers only\n",
        "    model = models.resnet50(pretrained=True)\n",
        "\n",
        "    params = list(model.parameters())\n",
        "    for param in params[:k]:\n",
        "        param.requires_grad = False #freezing\n",
        "\n",
        "    num_ftrs = model.fc.in_features\n",
        "\n",
        "    model.fc = torch.nn.Linear(num_ftrs, NUM_OF_CLASSES)\n",
        "\n",
        "    return model"
      ],
      "metadata": {
        "id": "92O4dm2kiyJ0",
        "execution": {
          "iopub.status.busy": "2024-04-12T18:54:10.381389Z",
          "iopub.execute_input": "2024-04-12T18:54:10.382408Z",
          "iopub.status.idle": "2024-04-12T18:54:10.388605Z",
          "shell.execute_reply.started": "2024-04-12T18:54:10.382370Z",
          "shell.execute_reply": "2024-04-12T18:54:10.387563Z"
        },
        "trusted": true
      },
      "execution_count": null,
      "outputs": []
    },
    {
      "cell_type": "code",
      "source": [
        "LossFun = nn.CrossEntropyLoss()\n",
        "device = torch.device(\"cuda\" if torch.cuda.is_available() else \"cpu\") # integrating with gpu\n",
        "\n",
        "def train_model(epochs,activationFun,aug,batch_size,eta):\n",
        "    train_loader,val_loader = DataLoaders(aug,batch_size)\n",
        "    Network = RESNET50(50,10).to(device)\n",
        "    Algo = torch.optim.Adam(Network.parameters(), lr=eta)\n",
        "    for epoch in range(epochs):\n",
        "        for i,(images,labels) in enumerate(tqdm(train_loader)):\n",
        "\n",
        "            images = images.to(device)\n",
        "            labels = labels.to(device)\n",
        "            # Forward pass\n",
        "            outputs = Network(images)\n",
        "            loss = LossFun(outputs, labels)\n",
        "\n",
        "            # Backward and optimize\n",
        "            Network.zero_grad()\n",
        "            loss.backward()\n",
        "            Algo.step()\n",
        "        train_acc,train_loss = calculate_accuracy(Network,train_loader,activationFun)\n",
        "        Validation_acc,val_loss=calculate_accuracy(Network, val_loader,activationFun)\n",
        "        # wandb.log({\"Validation_acc\" : Validation_acc})\n",
        "        # wandb.log({\"val_loss\" : val_loss})\n",
        "        # wandb.log({\"train_acc\" : train_acc})\n",
        "        # wandb.log({\"train_loss\" : train_loss})\n",
        "        print(train_acc,train_loss)\n",
        "        print(Validation_acc,val_loss)\n",
        "\n",
        "\n",
        "#accuracy\n",
        "def calculate_accuracy(model, data_loader,activationFun):\n",
        "    model.eval()  # Set the model to evaluation mode\n",
        "    correct = 0\n",
        "    total = 0\n",
        "    num_loss=0\n",
        "    total_length = 0\n",
        "    with torch.no_grad():\n",
        "        for images, labels in data_loader:\n",
        "            images=images.to(device=device)\n",
        "            labels=labels.to(device=device)\n",
        "            outputs = model(images)\n",
        "            loss=LossFun(outputs,labels)\n",
        "            num_loss+=loss.item()\n",
        "            _, predicted = torch.max(outputs, 1)\n",
        "            total += labels.size(0)\n",
        "            correct += (predicted == labels).sum().item()\n",
        "            total_length += predicted.size(0)\n",
        "    accuracy = correct / total\n",
        "    loss=num_loss/total_length\n",
        "    model.train()\n",
        "    return accuracy,loss"
      ],
      "metadata": {
        "id": "9DZKhgqujTfz",
        "execution": {
          "iopub.status.busy": "2024-04-12T18:57:26.822387Z",
          "iopub.execute_input": "2024-04-12T18:57:26.823211Z",
          "iopub.status.idle": "2024-04-12T18:57:26.838339Z",
          "shell.execute_reply.started": "2024-04-12T18:57:26.823174Z",
          "shell.execute_reply": "2024-04-12T18:57:26.837011Z"
        },
        "trusted": true
      },
      "execution_count": null,
      "outputs": []
    },
    {
      "cell_type": "code",
      "source": [
        "batch_size = 32\n",
        "epochs = 10\n",
        "eta = 1e-4\n",
        "activationFun='relu'\n",
        "aug = 'no'\n",
        "# NUM_OF_CLASSES = 10\n",
        "# strategy = 2\n",
        "train_model(epochs,activationFun,aug,batch_size,eta)"
      ],
      "metadata": {
        "id": "QAtl8kKoiOWq",
        "colab": {
          "base_uri": "https://localhost:8080/",
          "height": 463
        },
        "outputId": "c1dae0be-91ef-4bc3-fe30-efe804468e75",
        "execution": {
          "iopub.status.busy": "2024-04-12T18:57:29.414031Z",
          "iopub.execute_input": "2024-04-12T18:57:29.415079Z",
          "iopub.status.idle": "2024-04-12T19:40:28.151720Z",
          "shell.execute_reply.started": "2024-04-12T18:57:29.415041Z",
          "shell.execute_reply": "2024-04-12T19:40:28.150533Z"
        },
        "trusted": true
      },
      "execution_count": null,
      "outputs": [
        {
          "name": "stderr",
          "text": "100%|██████████| 250/250 [01:46<00:00,  2.34it/s]\n",
          "output_type": "stream"
        },
        {
          "name": "stdout",
          "text": "0.903487935991999 0.010626074913546866\n0.7455 0.024492078840732574\n",
          "output_type": "stream"
        },
        {
          "name": "stderr",
          "text": "100%|██████████| 250/250 [01:47<00:00,  2.32it/s]\n",
          "output_type": "stream"
        },
        {
          "name": "stdout",
          "text": "0.962745343167896 0.004169447331687319\n0.761 0.0245922172665596\n",
          "output_type": "stream"
        },
        {
          "name": "stderr",
          "text": "100%|██████████| 250/250 [01:47<00:00,  2.33it/s]\n",
          "output_type": "stream"
        },
        {
          "name": "stdout",
          "text": "0.9719964995624453 0.0027121426349016545\n0.7465 0.02903566113114357\n",
          "output_type": "stream"
        },
        {
          "name": "stderr",
          "text": "100%|██████████| 250/250 [01:46<00:00,  2.35it/s]\n",
          "output_type": "stream"
        },
        {
          "name": "stdout",
          "text": "0.9886235779472434 0.0014671822654737474\n0.752 0.02837534771859646\n",
          "output_type": "stream"
        },
        {
          "name": "stderr",
          "text": "100%|██████████| 250/250 [01:46<00:00,  2.34it/s]\n",
          "output_type": "stream"
        },
        {
          "name": "stdout",
          "text": "0.9896237029628704 0.0012727278573882123\n0.7405 0.03049540001153946\n",
          "output_type": "stream"
        },
        {
          "name": "stderr",
          "text": "100%|██████████| 250/250 [01:48<00:00,  2.31it/s]\n",
          "output_type": "stream"
        },
        {
          "name": "stdout",
          "text": "0.9899987498437305 0.0011434270617562464\n0.7495 0.03130466946959495\n",
          "output_type": "stream"
        },
        {
          "name": "stderr",
          "text": "100%|██████████| 250/250 [01:47<00:00,  2.33it/s]\n100%|██████████| 250/250 [01:47<00:00,  2.32it/s]\n",
          "output_type": "stream"
        },
        {
          "name": "stdout",
          "text": "0.9957494686835855 0.000586515538789032\n0.7655 0.033717502281069754\n",
          "output_type": "stream"
        },
        {
          "name": "stderr",
          "text": "100%|██████████| 250/250 [01:45<00:00,  2.36it/s]\n",
          "output_type": "stream"
        },
        {
          "name": "stdout",
          "text": "0.984748093511689 0.001501276881335291\n0.7295 0.036536981359124185\n",
          "output_type": "stream"
        },
        {
          "name": "stderr",
          "text": "100%|██████████| 250/250 [01:46<00:00,  2.35it/s]\n",
          "output_type": "stream"
        },
        {
          "name": "stdout",
          "text": "0.995624453056632 0.0005332565798837743\n0.761 0.03131941863894463\n",
          "output_type": "stream"
        }
      ]
    },
    {
      "cell_type": "code",
      "source": [
        "def main_fun():\n",
        "    wandb.init(project ='DL_Assignment_2B')\n",
        "    params = wandb.config\n",
        "    with wandb.init(project = 'DL_Assignment_2B', name='strategy'+str(params.strategy)+'batchSize'+str(params.batchSize)+'num_epochs'+str(params.num_epochs)+'learning_rate'+str(params.learning_rate)) as run:\n",
        "        train_model(params.num_epochs,params.aug,params.batchSize,params.learning_rate)\n",
        "sweep_params = {\n",
        "    'method' : 'bayes',\n",
        "    'name'   : 'Accuracy',\n",
        "    'metric' : {\n",
        "        'goal' : 'maximize',\n",
        "        'name' : 'val_accuracy',\n",
        "    },\n",
        "    'parameters' : {\n",
        "        'batchSize':{'values':[32,64]},\n",
        "        'num_epochs':{'values':[10,5]},\n",
        "        'learning_rate':{'values' : [1e-3,1e-4]},\n",
        "        'aug' :{'values':['no','yes']},\n",
        "    }\n",
        "}\n",
        "sweepId = wandb.sweep(sweep_params,project = 'DL_Assignment_2B')\n",
        "wandb.agent(sweepId,function =main_fun,count = 2)\n",
        "wandb.finish()"
      ],
      "metadata": {
        "execution": {
          "iopub.status.busy": "2024-04-07T08:42:05.168755Z",
          "iopub.execute_input": "2024-04-07T08:42:05.169173Z",
          "iopub.status.idle": "2024-04-07T09:12:18.518677Z",
          "shell.execute_reply.started": "2024-04-07T08:42:05.169144Z",
          "shell.execute_reply": "2024-04-07T09:12:18.517721Z"
        },
        "id": "QWnZuTX3iOWq",
        "trusted": true
      },
      "execution_count": null,
      "outputs": []
    }
  ]
}